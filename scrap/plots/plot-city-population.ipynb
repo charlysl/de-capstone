{
 "cells": [
  {
   "cell_type": "code",
   "execution_count": 66,
   "id": "adb24645",
   "metadata": {},
   "outputs": [],
   "source": [
    "import pandas as pd\n",
    "from sklearn.cluster import k_means\n",
    "from sklearn.decomposition import PCA\n",
    "import matplotlib.pyplot as plt\n",
    "\n",
    "from math import log"
   ]
  },
  {
   "cell_type": "markdown",
   "id": "1d3e9903",
   "metadata": {},
   "source": [
    "Goal: categorize cities by population\n",
    "\n",
    "This will allow us to add an easily interpretable demographic attribute to dimensions in order to help analysis."
   ]
  },
  {
   "cell_type": "code",
   "execution_count": 3,
   "id": "2a46865c",
   "metadata": {},
   "outputs": [],
   "source": [
    "population = pd.read_csv('../../us-cities-demographics.csv', sep=';')"
   ]
  },
  {
   "cell_type": "code",
   "execution_count": 4,
   "id": "275a73d4",
   "metadata": {
    "scrolled": true
   },
   "outputs": [
    {
     "data": {
      "text/html": [
       "<div>\n",
       "<style scoped>\n",
       "    .dataframe tbody tr th:only-of-type {\n",
       "        vertical-align: middle;\n",
       "    }\n",
       "\n",
       "    .dataframe tbody tr th {\n",
       "        vertical-align: top;\n",
       "    }\n",
       "\n",
       "    .dataframe thead th {\n",
       "        text-align: right;\n",
       "    }\n",
       "</style>\n",
       "<table border=\"1\" class=\"dataframe\">\n",
       "  <thead>\n",
       "    <tr style=\"text-align: right;\">\n",
       "      <th></th>\n",
       "      <th>City</th>\n",
       "      <th>State</th>\n",
       "      <th>Median Age</th>\n",
       "      <th>Male Population</th>\n",
       "      <th>Female Population</th>\n",
       "      <th>Total Population</th>\n",
       "      <th>Number of Veterans</th>\n",
       "      <th>Foreign-born</th>\n",
       "      <th>Average Household Size</th>\n",
       "      <th>State Code</th>\n",
       "      <th>Race</th>\n",
       "      <th>Count</th>\n",
       "    </tr>\n",
       "  </thead>\n",
       "  <tbody>\n",
       "    <tr>\n",
       "      <th>0</th>\n",
       "      <td>Silver Spring</td>\n",
       "      <td>Maryland</td>\n",
       "      <td>33.8</td>\n",
       "      <td>40601.0</td>\n",
       "      <td>41862.0</td>\n",
       "      <td>82463</td>\n",
       "      <td>1562.0</td>\n",
       "      <td>30908.0</td>\n",
       "      <td>2.60</td>\n",
       "      <td>MD</td>\n",
       "      <td>Hispanic or Latino</td>\n",
       "      <td>25924</td>\n",
       "    </tr>\n",
       "    <tr>\n",
       "      <th>1</th>\n",
       "      <td>Quincy</td>\n",
       "      <td>Massachusetts</td>\n",
       "      <td>41.0</td>\n",
       "      <td>44129.0</td>\n",
       "      <td>49500.0</td>\n",
       "      <td>93629</td>\n",
       "      <td>4147.0</td>\n",
       "      <td>32935.0</td>\n",
       "      <td>2.39</td>\n",
       "      <td>MA</td>\n",
       "      <td>White</td>\n",
       "      <td>58723</td>\n",
       "    </tr>\n",
       "    <tr>\n",
       "      <th>2</th>\n",
       "      <td>Hoover</td>\n",
       "      <td>Alabama</td>\n",
       "      <td>38.5</td>\n",
       "      <td>38040.0</td>\n",
       "      <td>46799.0</td>\n",
       "      <td>84839</td>\n",
       "      <td>4819.0</td>\n",
       "      <td>8229.0</td>\n",
       "      <td>2.58</td>\n",
       "      <td>AL</td>\n",
       "      <td>Asian</td>\n",
       "      <td>4759</td>\n",
       "    </tr>\n",
       "    <tr>\n",
       "      <th>3</th>\n",
       "      <td>Rancho Cucamonga</td>\n",
       "      <td>California</td>\n",
       "      <td>34.5</td>\n",
       "      <td>88127.0</td>\n",
       "      <td>87105.0</td>\n",
       "      <td>175232</td>\n",
       "      <td>5821.0</td>\n",
       "      <td>33878.0</td>\n",
       "      <td>3.18</td>\n",
       "      <td>CA</td>\n",
       "      <td>Black or African-American</td>\n",
       "      <td>24437</td>\n",
       "    </tr>\n",
       "    <tr>\n",
       "      <th>4</th>\n",
       "      <td>Newark</td>\n",
       "      <td>New Jersey</td>\n",
       "      <td>34.6</td>\n",
       "      <td>138040.0</td>\n",
       "      <td>143873.0</td>\n",
       "      <td>281913</td>\n",
       "      <td>5829.0</td>\n",
       "      <td>86253.0</td>\n",
       "      <td>2.73</td>\n",
       "      <td>NJ</td>\n",
       "      <td>White</td>\n",
       "      <td>76402</td>\n",
       "    </tr>\n",
       "  </tbody>\n",
       "</table>\n",
       "</div>"
      ],
      "text/plain": [
       "               City          State  Median Age  Male Population  \\\n",
       "0     Silver Spring       Maryland        33.8          40601.0   \n",
       "1            Quincy  Massachusetts        41.0          44129.0   \n",
       "2            Hoover        Alabama        38.5          38040.0   \n",
       "3  Rancho Cucamonga     California        34.5          88127.0   \n",
       "4            Newark     New Jersey        34.6         138040.0   \n",
       "\n",
       "   Female Population  Total Population  Number of Veterans  Foreign-born  \\\n",
       "0            41862.0             82463              1562.0       30908.0   \n",
       "1            49500.0             93629              4147.0       32935.0   \n",
       "2            46799.0             84839              4819.0        8229.0   \n",
       "3            87105.0            175232              5821.0       33878.0   \n",
       "4           143873.0            281913              5829.0       86253.0   \n",
       "\n",
       "   Average Household Size State Code                       Race  Count  \n",
       "0                    2.60         MD         Hispanic or Latino  25924  \n",
       "1                    2.39         MA                      White  58723  \n",
       "2                    2.58         AL                      Asian   4759  \n",
       "3                    3.18         CA  Black or African-American  24437  \n",
       "4                    2.73         NJ                      White  76402  "
      ]
     },
     "execution_count": 4,
     "metadata": {},
     "output_type": "execute_result"
    }
   ],
   "source": [
    "population.head()"
   ]
  },
  {
   "cell_type": "markdown",
   "id": "fe727113",
   "metadata": {},
   "source": [
    "## City distribution by population"
   ]
  },
  {
   "cell_type": "markdown",
   "id": "2c490a99",
   "metadata": {},
   "source": [
    "Population ranges between ~50,000 and ~8,000,000"
   ]
  },
  {
   "cell_type": "code",
   "execution_count": 92,
   "id": "3ec6fbee",
   "metadata": {
    "scrolled": true
   },
   "outputs": [
    {
     "data": {
      "text/plain": [
       "count    2.891000e+03\n",
       "mean     1.989668e+05\n",
       "std      4.475559e+05\n",
       "min      6.321500e+04\n",
       "25%      8.042900e+04\n",
       "50%      1.067820e+05\n",
       "75%      1.752320e+05\n",
       "max      8.550405e+06\n",
       "Name: Total Population, dtype: float64"
      ]
     },
     "execution_count": 92,
     "metadata": {},
     "output_type": "execute_result"
    }
   ],
   "source": [
    "population['Total Population'].describe()"
   ]
  },
  {
   "cell_type": "code",
   "execution_count": 83,
   "id": "7a46a5ac",
   "metadata": {},
   "outputs": [],
   "source": [
    "def city_population(df):\n",
    "    return (\n",
    "        df\n",
    "        .groupby(['City', 'State Code'])\n",
    "        ['Total Population']\n",
    "        .max('Total Population')\n",
    "        .to_frame()\n",
    "        .reset_index()\n",
    "        .rename(columns={\n",
    "            'City': 'city',\n",
    "            'State Code': 'state',\n",
    "            'Total Population': 'population'\n",
    "        })\n",
    "    )"
   ]
  },
  {
   "cell_type": "code",
   "execution_count": 84,
   "id": "ae19a2dc",
   "metadata": {},
   "outputs": [],
   "source": [
    "def population_hist(df):\n",
    "    plt.figure()\n",
    "    plt.hist(x=df['population'], log=True, bins=50)\n",
    "    plt.show()"
   ]
  },
  {
   "cell_type": "markdown",
   "id": "f28a1bb2",
   "metadata": {},
   "source": [
    "City sizes clearly follow a power law:"
   ]
  },
  {
   "cell_type": "code",
   "execution_count": 85,
   "id": "faf86413",
   "metadata": {},
   "outputs": [
    {
     "data": {
      "image/png": "[encoded data removed]",
      "text/plain": [
       "<Figure size 864x576 with 1 Axes>"
      ]
     },
     "metadata": {
      "needs_background": "light"
     },
     "output_type": "display_data"
    }
   ],
   "source": [
    "(\n",
    "    population\n",
    "    .pipe(city_population)\n",
    "    .pipe(population_hist)\n",
    ")"
   ]
  },
  {
   "cell_type": "markdown",
   "id": "8a42c2f5",
   "metadata": {},
   "source": [
    "## City categorizaton by population size"
   ]
  },
  {
   "cell_type": "markdown",
   "id": "169ed59e",
   "metadata": {},
   "source": [
    "From https://data.oecd.org/popregion/urban-population-by-city-size.htm:\n",
    "\n",
    "> Definition of Urban population by city size\n",
    "\n",
    "> ... Urban areas in OECD countries are classified as: large metropolitan areas if they have a population of 1.5 million or more; metropolitan areas if their population is between 500 000 and 1.5 million; medium-size urban areas if their population is between 200 000 and 500 000; and, small urban areas if their population is between 50 000 and 200 000."
   ]
  },
  {
   "cell_type": "code",
   "execution_count": 107,
   "id": "d5d9bc32",
   "metadata": {},
   "outputs": [],
   "source": [
    "city_size_desc = [\n",
    "    [0, 'small (50K - 200K)'],\n",
    "    [1, 'medium (200K - 500K)'],\n",
    "    [2, 'large (500K - 1,5M)'],\n",
    "    [3, 'very large (> 1,5M)'],\n",
    "]"
   ]
  },
  {
   "cell_type": "code",
   "execution_count": 108,
   "id": "e74c38cf",
   "metadata": {},
   "outputs": [],
   "source": [
    "city_size_desc = pd.DataFrame(city_size_desc, columns=['size', 'size_desc'])"
   ]
  },
  {
   "cell_type": "code",
   "execution_count": 110,
   "id": "9259026c",
   "metadata": {},
   "outputs": [
    {
     "data": {
      "text/html": [
       "<div>\n",
       "<style scoped>\n",
       "    .dataframe tbody tr th:only-of-type {\n",
       "        vertical-align: middle;\n",
       "    }\n",
       "\n",
       "    .dataframe tbody tr th {\n",
       "        vertical-align: top;\n",
       "    }\n",
       "\n",
       "    .dataframe thead th {\n",
       "        text-align: right;\n",
       "    }\n",
       "</style>\n",
       "<table border=\"1\" class=\"dataframe\">\n",
       "  <thead>\n",
       "    <tr style=\"text-align: right;\">\n",
       "      <th></th>\n",
       "      <th>size</th>\n",
       "      <th>size_desc</th>\n",
       "    </tr>\n",
       "  </thead>\n",
       "  <tbody>\n",
       "    <tr>\n",
       "      <th>0</th>\n",
       "      <td>0</td>\n",
       "      <td>small (50K - 200K)</td>\n",
       "    </tr>\n",
       "    <tr>\n",
       "      <th>1</th>\n",
       "      <td>1</td>\n",
       "      <td>medium (200K - 500K)</td>\n",
       "    </tr>\n",
       "    <tr>\n",
       "      <th>2</th>\n",
       "      <td>2</td>\n",
       "      <td>large (500K - 1,5M)</td>\n",
       "    </tr>\n",
       "    <tr>\n",
       "      <th>3</th>\n",
       "      <td>3</td>\n",
       "      <td>very large (&gt; 1,5M)</td>\n",
       "    </tr>\n",
       "  </tbody>\n",
       "</table>\n",
       "</div>"
      ],
      "text/plain": [
       "   size             size_desc\n",
       "0     0    small (50K - 200K)\n",
       "1     1  medium (200K - 500K)\n",
       "2     2   large (500K - 1,5M)\n",
       "3     3   very large (> 1,5M)"
      ]
     },
     "execution_count": 110,
     "metadata": {},
     "output_type": "execute_result"
    }
   ],
   "source": [
    "city_size_desc"
   ]
  },
  {
   "cell_type": "code",
   "execution_count": 94,
   "id": "1260e26e",
   "metadata": {},
   "outputs": [],
   "source": [
    "def classify_city(pop):\n",
    "    if pop < 200000:\n",
    "        return 0\n",
    "    elif pop < 500000:\n",
    "        return 1\n",
    "    elif pop < 1500000:\n",
    "        return 2\n",
    "    else:\n",
    "        return 3"
   ]
  },
  {
   "cell_type": "code",
   "execution_count": 95,
   "id": "85ef5a4d",
   "metadata": {},
   "outputs": [],
   "source": [
    "def classify_cities(df):\n",
    "    return df.assign(size=df['population'].apply(classify_city))"
   ]
  },
  {
   "cell_type": "code",
   "execution_count": 111,
   "id": "5c8ce47e",
   "metadata": {},
   "outputs": [],
   "source": [
    "def merge_size_desc(df):\n",
    "    return df.merge(city_size_desc)"
   ]
  },
  {
   "cell_type": "code",
   "execution_count": 112,
   "id": "1bc5a7b6",
   "metadata": {},
   "outputs": [],
   "source": [
    "city_sizes = (\n",
    "    population\n",
    "    .pipe(city_population)\n",
    "    .pipe(classify_cities)\n",
    "    .pipe(merge_size_desc)\n",
    ")"
   ]
  },
  {
   "cell_type": "code",
   "execution_count": 113,
   "id": "a123c56a",
   "metadata": {},
   "outputs": [
    {
     "data": {
      "text/html": [
       "<div>\n",
       "<style scoped>\n",
       "    .dataframe tbody tr th:only-of-type {\n",
       "        vertical-align: middle;\n",
       "    }\n",
       "\n",
       "    .dataframe tbody tr th {\n",
       "        vertical-align: top;\n",
       "    }\n",
       "\n",
       "    .dataframe thead th {\n",
       "        text-align: right;\n",
       "    }\n",
       "</style>\n",
       "<table border=\"1\" class=\"dataframe\">\n",
       "  <thead>\n",
       "    <tr style=\"text-align: right;\">\n",
       "      <th></th>\n",
       "      <th>city</th>\n",
       "      <th>state</th>\n",
       "      <th>population</th>\n",
       "      <th>size</th>\n",
       "      <th>size_desc</th>\n",
       "    </tr>\n",
       "  </thead>\n",
       "  <tbody>\n",
       "    <tr>\n",
       "      <th>0</th>\n",
       "      <td>Abilene</td>\n",
       "      <td>TX</td>\n",
       "      <td>125876</td>\n",
       "      <td>0</td>\n",
       "      <td>small (50K - 200K)</td>\n",
       "    </tr>\n",
       "    <tr>\n",
       "      <th>1</th>\n",
       "      <td>Akron</td>\n",
       "      <td>OH</td>\n",
       "      <td>197553</td>\n",
       "      <td>0</td>\n",
       "      <td>small (50K - 200K)</td>\n",
       "    </tr>\n",
       "    <tr>\n",
       "      <th>2</th>\n",
       "      <td>Alafaya</td>\n",
       "      <td>FL</td>\n",
       "      <td>85264</td>\n",
       "      <td>0</td>\n",
       "      <td>small (50K - 200K)</td>\n",
       "    </tr>\n",
       "    <tr>\n",
       "      <th>3</th>\n",
       "      <td>Alameda</td>\n",
       "      <td>CA</td>\n",
       "      <td>78614</td>\n",
       "      <td>0</td>\n",
       "      <td>small (50K - 200K)</td>\n",
       "    </tr>\n",
       "    <tr>\n",
       "      <th>4</th>\n",
       "      <td>Albany</td>\n",
       "      <td>GA</td>\n",
       "      <td>71109</td>\n",
       "      <td>0</td>\n",
       "      <td>small (50K - 200K)</td>\n",
       "    </tr>\n",
       "  </tbody>\n",
       "</table>\n",
       "</div>"
      ],
      "text/plain": [
       "      city state  population  size           size_desc\n",
       "0  Abilene    TX      125876     0  small (50K - 200K)\n",
       "1    Akron    OH      197553     0  small (50K - 200K)\n",
       "2  Alafaya    FL       85264     0  small (50K - 200K)\n",
       "3  Alameda    CA       78614     0  small (50K - 200K)\n",
       "4   Albany    GA       71109     0  small (50K - 200K)"
      ]
     },
     "execution_count": 113,
     "metadata": {},
     "output_type": "execute_result"
    }
   ],
   "source": [
    "city_sizes.head()"
   ]
  },
  {
   "cell_type": "markdown",
   "id": "afe868db",
   "metadata": {},
   "source": [
    "A quick sanity check:"
   ]
  },
  {
   "cell_type": "code",
   "execution_count": 114,
   "id": "5bc75625",
   "metadata": {
    "scrolled": true
   },
   "outputs": [
    {
     "data": {
      "text/html": [
       "<div>\n",
       "<style scoped>\n",
       "    .dataframe tbody tr th:only-of-type {\n",
       "        vertical-align: middle;\n",
       "    }\n",
       "\n",
       "    .dataframe tbody tr th {\n",
       "        vertical-align: top;\n",
       "    }\n",
       "\n",
       "    .dataframe thead th {\n",
       "        text-align: right;\n",
       "    }\n",
       "</style>\n",
       "<table border=\"1\" class=\"dataframe\">\n",
       "  <thead>\n",
       "    <tr style=\"text-align: right;\">\n",
       "      <th></th>\n",
       "      <th>city</th>\n",
       "      <th>state</th>\n",
       "      <th>population</th>\n",
       "      <th>size_desc</th>\n",
       "    </tr>\n",
       "    <tr>\n",
       "      <th>size</th>\n",
       "      <th></th>\n",
       "      <th></th>\n",
       "      <th></th>\n",
       "      <th></th>\n",
       "    </tr>\n",
       "  </thead>\n",
       "  <tbody>\n",
       "    <tr>\n",
       "      <th>0</th>\n",
       "      <td>Abilene</td>\n",
       "      <td>TX</td>\n",
       "      <td>125876</td>\n",
       "      <td>small (50K - 200K)</td>\n",
       "    </tr>\n",
       "    <tr>\n",
       "      <th>1</th>\n",
       "      <td>Anaheim</td>\n",
       "      <td>CA</td>\n",
       "      <td>350738</td>\n",
       "      <td>medium (200K - 500K)</td>\n",
       "    </tr>\n",
       "    <tr>\n",
       "      <th>2</th>\n",
       "      <td>Albuquerque</td>\n",
       "      <td>NM</td>\n",
       "      <td>559131</td>\n",
       "      <td>large (500K - 1,5M)</td>\n",
       "    </tr>\n",
       "    <tr>\n",
       "      <th>3</th>\n",
       "      <td>Chicago</td>\n",
       "      <td>IL</td>\n",
       "      <td>2720556</td>\n",
       "      <td>very large (&gt; 1,5M)</td>\n",
       "    </tr>\n",
       "  </tbody>\n",
       "</table>\n",
       "</div>"
      ],
      "text/plain": [
       "             city state  population             size_desc\n",
       "size                                                     \n",
       "0         Abilene    TX      125876    small (50K - 200K)\n",
       "1         Anaheim    CA      350738  medium (200K - 500K)\n",
       "2     Albuquerque    NM      559131   large (500K - 1,5M)\n",
       "3         Chicago    IL     2720556   very large (> 1,5M)"
      ]
     },
     "execution_count": 114,
     "metadata": {},
     "output_type": "execute_result"
    }
   ],
   "source": [
    "city_sizes.groupby('size').first()"
   ]
  },
  {
   "cell_type": "code",
   "execution_count": 119,
   "id": "9d83c423",
   "metadata": {},
   "outputs": [],
   "source": [
    "def size_counts(df):\n",
    "    return (\n",
    "        df\n",
    "        .groupby(['size', 'size_desc'])\n",
    "        .count()\n",
    "        ['city']\n",
    "        .rename('count')\n",
    "        .to_frame()\n",
    "    )"
   ]
  },
  {
   "cell_type": "markdown",
   "id": "d501a918",
   "metadata": {},
   "source": [
    "Again, the city size power law is clear, there is an inverse exponential relation between city size and frequency:"
   ]
  },
  {
   "cell_type": "code",
   "execution_count": 120,
   "id": "b661c22d",
   "metadata": {
    "scrolled": true
   },
   "outputs": [
    {
     "data": {
      "text/html": [
       "<div>\n",
       "<style scoped>\n",
       "    .dataframe tbody tr th:only-of-type {\n",
       "        vertical-align: middle;\n",
       "    }\n",
       "\n",
       "    .dataframe tbody tr th {\n",
       "        vertical-align: top;\n",
       "    }\n",
       "\n",
       "    .dataframe thead th {\n",
       "        text-align: right;\n",
       "    }\n",
       "</style>\n",
       "<table border=\"1\" class=\"dataframe\">\n",
       "  <thead>\n",
       "    <tr style=\"text-align: right;\">\n",
       "      <th></th>\n",
       "      <th></th>\n",
       "      <th>count</th>\n",
       "    </tr>\n",
       "    <tr>\n",
       "      <th>size</th>\n",
       "      <th>size_desc</th>\n",
       "      <th></th>\n",
       "    </tr>\n",
       "  </thead>\n",
       "  <tbody>\n",
       "    <tr>\n",
       "      <th>0</th>\n",
       "      <th>small (50K - 200K)</th>\n",
       "      <td>477</td>\n",
       "    </tr>\n",
       "    <tr>\n",
       "      <th>1</th>\n",
       "      <th>medium (200K - 500K)</th>\n",
       "      <td>85</td>\n",
       "    </tr>\n",
       "    <tr>\n",
       "      <th>2</th>\n",
       "      <th>large (500K - 1,5M)</th>\n",
       "      <td>28</td>\n",
       "    </tr>\n",
       "    <tr>\n",
       "      <th>3</th>\n",
       "      <th>very large (&gt; 1,5M)</th>\n",
       "      <td>6</td>\n",
       "    </tr>\n",
       "  </tbody>\n",
       "</table>\n",
       "</div>"
      ],
      "text/plain": [
       "                           count\n",
       "size size_desc                  \n",
       "0    small (50K - 200K)      477\n",
       "1    medium (200K - 500K)     85\n",
       "2    large (500K - 1,5M)      28\n",
       "3    very large (> 1,5M)       6"
      ]
     },
     "execution_count": 120,
     "metadata": {},
     "output_type": "execute_result"
    }
   ],
   "source": [
    "(\n",
    "    city_sizes\n",
    "    .pipe(size_counts)\n",
    ")"
   ]
  },
  {
   "cell_type": "markdown",
   "id": "1e4e0e54",
   "metadata": {},
   "source": [
    "Can be easily joined with demographics on city and state."
   ]
  },
  {
   "cell_type": "code",
   "execution_count": 101,
   "id": "8f35d35f",
   "metadata": {},
   "outputs": [],
   "source": [
    "filepath = '../curated/city_size.csv'"
   ]
  },
  {
   "cell_type": "code",
   "execution_count": 102,
   "id": "9a59dd4f",
   "metadata": {},
   "outputs": [],
   "source": [
    "city_sizes.to_csv(filepath, index=False)"
   ]
  },
  {
   "cell_type": "code",
   "execution_count": 103,
   "id": "ad8d8ed8",
   "metadata": {},
   "outputs": [
    {
     "data": {
      "text/html": [
       "<div>\n",
       "<style scoped>\n",
       "    .dataframe tbody tr th:only-of-type {\n",
       "        vertical-align: middle;\n",
       "    }\n",
       "\n",
       "    .dataframe tbody tr th {\n",
       "        vertical-align: top;\n",
       "    }\n",
       "\n",
       "    .dataframe thead th {\n",
       "        text-align: right;\n",
       "    }\n",
       "</style>\n",
       "<table border=\"1\" class=\"dataframe\">\n",
       "  <thead>\n",
       "    <tr style=\"text-align: right;\">\n",
       "      <th></th>\n",
       "      <th>city</th>\n",
       "      <th>state</th>\n",
       "      <th>population</th>\n",
       "      <th>size</th>\n",
       "    </tr>\n",
       "  </thead>\n",
       "  <tbody>\n",
       "    <tr>\n",
       "      <th>0</th>\n",
       "      <td>Abilene</td>\n",
       "      <td>TX</td>\n",
       "      <td>125876</td>\n",
       "      <td>0</td>\n",
       "    </tr>\n",
       "    <tr>\n",
       "      <th>1</th>\n",
       "      <td>Akron</td>\n",
       "      <td>OH</td>\n",
       "      <td>197553</td>\n",
       "      <td>0</td>\n",
       "    </tr>\n",
       "    <tr>\n",
       "      <th>2</th>\n",
       "      <td>Alafaya</td>\n",
       "      <td>FL</td>\n",
       "      <td>85264</td>\n",
       "      <td>0</td>\n",
       "    </tr>\n",
       "    <tr>\n",
       "      <th>3</th>\n",
       "      <td>Alameda</td>\n",
       "      <td>CA</td>\n",
       "      <td>78614</td>\n",
       "      <td>0</td>\n",
       "    </tr>\n",
       "    <tr>\n",
       "      <th>4</th>\n",
       "      <td>Albany</td>\n",
       "      <td>GA</td>\n",
       "      <td>71109</td>\n",
       "      <td>0</td>\n",
       "    </tr>\n",
       "  </tbody>\n",
       "</table>\n",
       "</div>"
      ],
      "text/plain": [
       "      city state  population  size\n",
       "0  Abilene    TX      125876     0\n",
       "1    Akron    OH      197553     0\n",
       "2  Alafaya    FL       85264     0\n",
       "3  Alameda    CA       78614     0\n",
       "4   Albany    GA       71109     0"
      ]
     },
     "execution_count": 103,
     "metadata": {},
     "output_type": "execute_result"
    }
   ],
   "source": [
    "pd.read_csv(filepath).head()"
   ]
  },
  {
   "cell_type": "code",
   "execution_count": null,
   "id": "b81a492f",
   "metadata": {},
   "outputs": [],
   "source": []
  }
 ],
 "metadata": {
  "kernelspec": {
   "display_name": "Python 3 (ipykernel)",
   "language": "python",
   "name": "python3"
  },
  "language_info": {
   "codemirror_mode": {
    "name": "ipython",
    "version": 3
   },
   "file_extension": ".py",
   "mimetype": "text/x-python",
   "name": "python",
   "nbconvert_exporter": "python",
   "pygments_lexer": "ipython3",
   "version": "3.9.7"
  }
 },
 "nbformat": 4,
 "nbformat_minor": 5
}
