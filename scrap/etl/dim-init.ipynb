{
 "cells": [
  {
   "cell_type": "code",
   "execution_count": 9,
   "id": "0400bb3a",
   "metadata": {},
   "outputs": [],
   "source": [
    "import findspark\n",
    "findspark.init()\n",
    "\n",
    "from pyspark.sql import DataFrame\n",
    "import pyspark.sql.types as T\n",
    "\n",
    "from etl import SparkETL"
   ]
  },
  {
   "cell_type": "code",
   "execution_count": 10,
   "id": "71afbe99",
   "metadata": {},
   "outputs": [],
   "source": [
    "etl = SparkETL()"
   ]
  },
  {
   "cell_type": "code",
   "execution_count": 11,
   "id": "40931761",
   "metadata": {},
   "outputs": [],
   "source": [
    "spark = etl.get_spark()"
   ]
  },
  {
   "cell_type": "markdown",
   "id": "160bc8cc",
   "metadata": {},
   "source": [
    "Initialize all dimension tables; must be idempotent, like CREATE IF NOT EXISTS"
   ]
  },
  {
   "cell_type": "code",
   "execution_count": 12,
   "id": "cb481a06",
   "metadata": {},
   "outputs": [],
   "source": [
    "dimensions = {\n",
    "    'time_dim': (\n",
    "            T.StructType([\n",
    "                T.StructField('time_id', T.LongType(), False),\n",
    "                T.StructField('date', T.DateType(), False),\n",
    "                T.StructField('year', T.IntegerType(), False),\n",
    "                T.StructField('month_id', T.IntegerType(), False),\n",
    "                T.StructField('day', T.IntegerType(), False),\n",
    "                T.StructField('weekday_id', T.IntegerType(), False),\n",
    "                T.StructField('month', T.StringType(), False),\n",
    "                T.StructField('weekday', T.StringType(), False),\n",
    "                T.StructField('weekend', T.BooleanType(), False)\n",
    "            ])\n",
    "    ),\n",
    "    \n",
    "    'foreign_visitor_dim': (\n",
    "            T.StructType([\n",
    "                T.StructField('visitor_id', T.IntegerType(), False),\n",
    "                T.StructField('citizenship_id', T.IntegerType(), False),\n",
    "                T.StructField('residence_id', T.IntegerType(), False),\n",
    "                T.StructField('age_id', T.IntegerType(), False),\n",
    "                T.StructField('gender_id', T.StringType(), False),\n",
    "                T.StructField('visa_id', T.IntegerType(), False),\n",
    "                T.StructField('stay_id', T.IntegerType(), False),\n",
    "                T.StructField('address_id', T.StringType(), False),\n",
    "                T.StructField('address_climate_id', T.IntegerType(), False),\n",
    "                T.StructField('citizenship', T.StringType(), False),\n",
    "                T.StructField('residence', T.StringType(), False),\n",
    "                T.StructField('age', T.StringType(), False),\n",
    "                T.StructField('gender', T.StringType(), False),\n",
    "                T.StructField('visa', T.StringType(), False),\n",
    "                T.StructField('stay', T.StringType(), False),\n",
    "                T.StructField('address', T.StringType(), False),\n",
    "                T.StructField('address_climate', T.StringType(), False),\n",
    "            ])\n",
    "    ),\n",
    "    \n",
    "    'route_dim': (\n",
    "            T.StructType([\n",
    "                T.StructField('route_id', T.IntegerType(), False),\n",
    "                T.StructField('airline', T.StringType(), False),\n",
    "                T.StructField('flight_num', T.StringType(), False),\n",
    "                T.StructField('port_id', T.IntegerType(), False),\n",
    "                T.StructField('airport_id', T.StringType(), False),\n",
    "                T.StructField('coordinates', T.StringType(), False),\n",
    "                T.StructField('city', T.StringType(), False),\n",
    "                T.StructField('state_id', T.StringType(), False),\n",
    "                T.StructField('size_id', T.IntegerType(), False),\n",
    "                T.StructField('ethnicity_id', T.IntegerType(), False),\n",
    "                T.StructField('port', T.StringType(), False),\n",
    "                T.StructField('airport', T.StringType(), False),\n",
    "                T.StructField('state', T.StringType(), False),\n",
    "                T.StructField('longitude', T.FloatType(), False),\n",
    "                T.StructField('latitude', T.FloatType(), False),\n",
    "                T.StructField('size', T.StringType(), False),\n",
    "                T.StructField('ethnicity', T.StringType(), False),\n",
    "\n",
    "            ])\n",
    "    )\n",
    "}"
   ]
  },
  {
   "cell_type": "code",
   "execution_count": 13,
   "id": "cbdd2b0c",
   "metadata": {},
   "outputs": [],
   "source": [
    "def empty_dataframe(schema):\n",
    "    return spark.createDataFrame([], schema)"
   ]
  },
  {
   "cell_type": "code",
   "execution_count": 14,
   "id": "68114370",
   "metadata": {},
   "outputs": [],
   "source": [
    "def init_dims(dims):\n",
    "    for dim, schema in dimensions.items():\n",
    "        etl.init_dim_table(\n",
    "            empty_dataframe(schema),\n",
    "            dim\n",
    "        )"
   ]
  },
  {
   "cell_type": "code",
   "execution_count": 16,
   "id": "2862aab5",
   "metadata": {
    "scrolled": true
   },
   "outputs": [],
   "source": [
    "init_dims(dimensions)"
   ]
  },
  {
   "cell_type": "code",
   "execution_count": null,
   "id": "21024847",
   "metadata": {},
   "outputs": [],
   "source": []
  }
 ],
 "metadata": {
  "kernelspec": {
   "display_name": "Python 3 (ipykernel)",
   "language": "python",
   "name": "python3"
  },
  "language_info": {
   "codemirror_mode": {
    "name": "ipython",
    "version": 3
   },
   "file_extension": ".py",
   "mimetype": "text/x-python",
   "name": "python",
   "nbconvert_exporter": "python",
   "pygments_lexer": "ipython3",
   "version": "3.9.7"
  }
 },
 "nbformat": 4,
 "nbformat_minor": 5
}
