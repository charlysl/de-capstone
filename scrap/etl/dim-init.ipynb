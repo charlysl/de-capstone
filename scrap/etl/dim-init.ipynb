{
 "cells": [
  {
   "cell_type": "code",
   "execution_count": 2,
   "id": "0400bb3a",
   "metadata": {},
   "outputs": [],
   "source": [
    "import findspark\n",
    "findspark.init()\n",
    "\n",
    "from pyspark.sql import DataFrame\n",
    "import pyspark.sql.types as T\n",
    "\n",
    "from etl import SparkETL"
   ]
  },
  {
   "cell_type": "code",
   "execution_count": 3,
   "id": "71afbe99",
   "metadata": {},
   "outputs": [],
   "source": [
    "etl = SparkETL()"
   ]
  },
  {
   "cell_type": "code",
   "execution_count": 4,
   "id": "40931761",
   "metadata": {},
   "outputs": [
    {
     "name": "stderr",
     "output_type": "stream",
     "text": [
      "WARNING: An illegal reflective access operation has occurred\n",
      "WARNING: Illegal reflective access by org.apache.spark.unsafe.Platform (file:/usr/local/Cellar/apache-spark/3.1.2/libexec/jars/spark-unsafe_2.12-3.1.2.jar) to constructor java.nio.DirectByteBuffer(long,int)\n",
      "WARNING: Please consider reporting this to the maintainers of org.apache.spark.unsafe.Platform\n",
      "WARNING: Use --illegal-access=warn to enable warnings of further illegal reflective access operations\n",
      "WARNING: All illegal access operations will be denied in a future release\n",
      "22/05/08 14:58:44 WARN NativeCodeLoader: Unable to load native-hadoop library for your platform... using builtin-java classes where applicable\n",
      "Using Spark's default log4j profile: org/apache/spark/log4j-defaults.properties\n",
      "Setting default log level to \"WARN\".\n",
      "To adjust logging level use sc.setLogLevel(newLevel). For SparkR, use setLogLevel(newLevel).\n",
      "22/05/08 14:58:45 WARN Utils: Service 'SparkUI' could not bind on port 4040. Attempting port 4041.\n"
     ]
    }
   ],
   "source": [
    "spark = etl.get_spark()"
   ]
  },
  {
   "cell_type": "markdown",
   "id": "160bc8cc",
   "metadata": {},
   "source": [
    "Initialize all dimension tables; must be idempotent, like CREATE IF NOT EXISTS"
   ]
  },
  {
   "cell_type": "code",
   "execution_count": 5,
   "id": "cb481a06",
   "metadata": {},
   "outputs": [],
   "source": [
    "dimensions = {\n",
    "    'time_dim': (\n",
    "            T.StructType([\n",
    "                T.StructField('time_id', T.LongType(), False),\n",
    "                T.StructField('date', T.DateType(), False),\n",
    "                T.StructField('year', T.IntegerType(), False),\n",
    "                T.StructField('month_id', T.IntegerType(), False),\n",
    "                T.StructField('day', T.IntegerType(), False),\n",
    "                T.StructField('weekday_id', T.IntegerType(), False),\n",
    "                T.StructField('month', T.StringType(), False),\n",
    "                T.StructField('weekday', T.StringType(), False),\n",
    "                T.StructField('weekend', T.BooleanType(), False)\n",
    "            ])\n",
    "    ),\n",
    "    \n",
    "    'foreign_visitor_dim': (\n",
    "            T.StructType([\n",
    "                T.StructField('visitor_id', T.LongType(), False),\n",
    "                T.StructField('citizenship_id', T.IntegerType(), False),\n",
    "                T.StructField('residence_id', T.IntegerType(), False),\n",
    "                T.StructField('age_id', T.IntegerType(), False),\n",
    "                T.StructField('gender_id', T.StringType(), False),\n",
    "                T.StructField('visa_id', T.IntegerType(), False),\n",
    "                T.StructField('stay_id', T.IntegerType(), False),\n",
    "                T.StructField('address_id', T.StringType(), False),\n",
    "                T.StructField('address_climate_id', T.IntegerType(), False),\n",
    "                T.StructField('citizenship', T.StringType(), False),\n",
    "                T.StructField('residence', T.StringType(), False),\n",
    "                T.StructField('age', T.StringType(), False),\n",
    "                T.StructField('gender', T.StringType(), False),\n",
    "                T.StructField('visa', T.StringType(), False),\n",
    "                T.StructField('stay', T.StringType(), False),\n",
    "                T.StructField('address', T.StringType(), False),\n",
    "                T.StructField('address_climate', T.StringType(), False),\n",
    "            ])\n",
    "    ),\n",
    "  \n",
    "    'route_dim': (\n",
    "            T.StructType([\n",
    "                T.StructField('route_id', T.LongType(), False),\n",
    "                T.StructField('airline', T.StringType(), False),\n",
    "                T.StructField('flight_number', T.StringType(), False),\n",
    "                T.StructField('port_id', T.IntegerType(), False),\n",
    "                T.StructField('dst_airport_id', T.StringType(), False),\n",
    "                T.StructField('dst_coordinates', T.StringType(), False),\n",
    "                T.StructField('dst_longitude', T.FloatType(), False),\n",
    "                T.StructField('dst_latitude', T.FloatType(), False),\n",
    "                T.StructField('dst_city', T.StringType(), False),\n",
    "                T.StructField('dst_port', T.StringType(), False),\n",
    "                T.StructField('dst_airport_name', T.StringType(), False),\n",
    "                T.StructField('dst_airport_international', T.BooleanType(), False),\n",
    "                T.StructField('dst_airport_type_id', T.IntegerType(), False),\n",
    "                T.StructField('dst_airport_type', T.StringType(), False),\n",
    "                T.StructField('dst_asian', T.DoubleType(), False),\n",
    "                T.StructField('dst_black', T.DoubleType(), False),\n",
    "                T.StructField('dst_latino', T.DoubleType(), False),\n",
    "                T.StructField('dst_native', T.DoubleType(), False),\n",
    "                T.StructField('dst_white', T.DoubleType(), False),\n",
    "                T.StructField('dst_ethnicity_id', T.IntegerType(), False),\n",
    "                T.StructField('dst_ethnicity', T.StringType(), False),\n",
    "                T.StructField('dst_population', T.IntegerType(), False),\n",
    "                T.StructField('dst_size_id', T.IntegerType(), False),\n",
    "                T.StructField('dst_size', T.StringType(), False),\n",
    "                T.StructField('dst_state_id', T.StringType(), False),\n",
    "                T.StructField('dst_state_name', T.StringType(), False),\n",
    "                T.StructField('dst_state_type_id', T.IntegerType(), False),\n",
    "                T.StructField('dst_state_type', T.StringType(), False),\n",
    "                T.StructField('dst_state_climate_id', T.IntegerType(), False),\n",
    "                T.StructField('dst_state_climate', T.StringType(), False),\n",
    "            ])\n",
    "    )\n",
    "}"
   ]
  },
  {
   "cell_type": "code",
   "execution_count": 6,
   "id": "cbdd2b0c",
   "metadata": {},
   "outputs": [],
   "source": [
    "def empty_dataframe(schema):\n",
    "    return spark.createDataFrame([], schema)"
   ]
  },
  {
   "cell_type": "code",
   "execution_count": 7,
   "id": "68114370",
   "metadata": {},
   "outputs": [],
   "source": [
    "def init_dims(dims):\n",
    "    for dim, schema in dimensions.items():\n",
    "        etl.init_dim_table(\n",
    "            empty_dataframe(schema),\n",
    "            dim\n",
    "        )"
   ]
  },
  {
   "cell_type": "code",
   "execution_count": 10,
   "id": "2862aab5",
   "metadata": {
    "scrolled": true
   },
   "outputs": [],
   "source": [
    "init_dims(dimensions)"
   ]
  },
  {
   "cell_type": "code",
   "execution_count": null,
   "id": "21024847",
   "metadata": {},
   "outputs": [],
   "source": []
  }
 ],
 "metadata": {
  "kernelspec": {
   "display_name": "Python 3 (ipykernel)",
   "language": "python",
   "name": "python3"
  },
  "language_info": {
   "codemirror_mode": {
    "name": "ipython",
    "version": 3
   },
   "file_extension": ".py",
   "mimetype": "text/x-python",
   "name": "python",
   "nbconvert_exporter": "python",
   "pygments_lexer": "ipython3",
   "version": "3.9.7"
  }
 },
 "nbformat": 4,
 "nbformat_minor": 5
}
