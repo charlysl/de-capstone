{
 "cells": [
  {
   "cell_type": "markdown",
   "id": "9c77c914",
   "metadata": {},
   "source": [
    "It would be natural to save the data dictionary as json so that Spark can process it; this will give me the opportunity to work with a different data format."
   ]
  },
  {
   "cell_type": "code",
   "execution_count": 17,
   "id": "5d7bfa23",
   "metadata": {},
   "outputs": [],
   "source": [
    "import findspark\n",
    "findspark.init()\n",
    "\n",
    "import json\n",
    "\n",
    "from etl import SparkETL\n",
    "from i94_data_dictionary import DataDictionaryParser, ListData\n"
   ]
  },
  {
   "cell_type": "code",
   "execution_count": 18,
   "id": "2ec57d87",
   "metadata": {},
   "outputs": [],
   "source": [
    "etl = SparkETL()"
   ]
  },
  {
   "cell_type": "code",
   "execution_count": 19,
   "id": "46eb3fae",
   "metadata": {},
   "outputs": [],
   "source": [
    "def dict_to_json():\n",
    "    file = '../../I94_SAS_Labels_Descriptions.SAS'\n",
    "    data_dict = DataDictionaryParser(file, output=ListData()).parse()\n",
    "    return json.dumps(data_dict, indent=4)\n"
   ]
  },
  {
   "cell_type": "code",
   "execution_count": 20,
   "id": "d4136ae5",
   "metadata": {
    "scrolled": true
   },
   "outputs": [],
   "source": [
    "json_dict = dict_to_json()"
   ]
  },
  {
   "cell_type": "code",
   "execution_count": 21,
   "id": "727e17af",
   "metadata": {},
   "outputs": [
    {
     "ename": "FileNotFoundError",
     "evalue": "[Errno 2] No such file or directory: 'datalake/raw/i94_data_dictionary.json'",
     "output_type": "error",
     "traceback": [
      "\u001b[0;31m---------------------------------------------------------------------------\u001b[0m",
      "\u001b[0;31mFileNotFoundError\u001b[0m                         Traceback (most recent call last)",
      "\u001b[0;32m/var/folders/qv/mzlqg6j94kl_f0tjrgnt99_c0000gn/T/ipykernel_7428/2769915928.py\u001b[0m in \u001b[0;36m<module>\u001b[0;34m\u001b[0m\n\u001b[0;32m----> 1\u001b[0;31m \u001b[0;32mwith\u001b[0m \u001b[0mopen\u001b[0m\u001b[0;34m(\u001b[0m\u001b[0metl\u001b[0m\u001b[0;34m.\u001b[0m\u001b[0mi94_data_dictionary\u001b[0m\u001b[0;34m,\u001b[0m \u001b[0;34m'w'\u001b[0m\u001b[0;34m)\u001b[0m \u001b[0;32mas\u001b[0m \u001b[0mf\u001b[0m\u001b[0;34m:\u001b[0m\u001b[0;34m\u001b[0m\u001b[0;34m\u001b[0m\u001b[0m\n\u001b[0m\u001b[1;32m      2\u001b[0m     \u001b[0mf\u001b[0m\u001b[0;34m.\u001b[0m\u001b[0mwrite\u001b[0m\u001b[0;34m(\u001b[0m\u001b[0mjson_dict\u001b[0m\u001b[0;34m)\u001b[0m\u001b[0;34m\u001b[0m\u001b[0;34m\u001b[0m\u001b[0m\n",
      "\u001b[0;31mFileNotFoundError\u001b[0m: [Errno 2] No such file or directory: 'datalake/raw/i94_data_dictionary.json'"
     ]
    }
   ],
   "source": [
    "with open(etl.i94_data_dictionary, 'w') as f:\n",
    "    f.write(json_dict)"
   ]
  },
  {
   "cell_type": "code",
   "execution_count": null,
   "id": "3fd9523a",
   "metadata": {},
   "outputs": [],
   "source": []
  },
  {
   "cell_type": "code",
   "execution_count": 29,
   "id": "e8d88323",
   "metadata": {},
   "outputs": [],
   "source": []
  },
  {
   "cell_type": "code",
   "execution_count": null,
   "id": "784aa96f",
   "metadata": {},
   "outputs": [],
   "source": []
  }
 ],
 "metadata": {
  "kernelspec": {
   "display_name": "Python 3 (ipykernel)",
   "language": "python",
   "name": "python3"
  },
  "language_info": {
   "codemirror_mode": {
    "name": "ipython",
    "version": 3
   },
   "file_extension": ".py",
   "mimetype": "text/x-python",
   "name": "python",
   "nbconvert_exporter": "python",
   "pygments_lexer": "ipython3",
   "version": "3.9.7"
  }
 },
 "nbformat": 4,
 "nbformat_minor": 5
}
