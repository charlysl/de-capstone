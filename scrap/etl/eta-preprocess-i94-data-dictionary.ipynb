{
 "cells": [
  {
   "cell_type": "markdown",
   "id": "9c77c914",
   "metadata": {},
   "source": [
    "It would be natural to save the data dictionary as json so that Spark can process it; this will give me the opportunity to work with a different data format."
   ]
  },
  {
   "cell_type": "code",
   "execution_count": 1,
   "id": "5d7bfa23",
   "metadata": {},
   "outputs": [],
   "source": [
    "import findspark\n",
    "findspark.init()\n",
    "\n",
    "import json\n",
    "\n",
    "from etl import SparkETL\n",
    "from i94_data_dictionary import DataDictionaryParser"
   ]
  },
  {
   "cell_type": "code",
   "execution_count": 7,
   "id": "46eb3fae",
   "metadata": {},
   "outputs": [],
   "source": [
    "def dict_to_json(data_dict):\n",
    "    etl = SparkETL()\n",
    "    file = '../../I94_SAS_Labels_Descriptions.SAS'\n",
    "    data_dict = DataDictionaryParser(file).parse()\n",
    "    return json.dumps(data_dict, indent=4)"
   ]
  },
  {
   "cell_type": "code",
   "execution_count": 8,
   "id": "d76ad7ef",
   "metadata": {},
   "outputs": [],
   "source": [
    "json_dict = dict_to_json(data_dict)"
   ]
  },
  {
   "cell_type": "code",
   "execution_count": 11,
   "id": "727e17af",
   "metadata": {},
   "outputs": [],
   "source": [
    "with open(etl.i94_data_dictionary, 'w') as f:\n",
    "    f.write(json_dict)"
   ]
  },
  {
   "cell_type": "code",
   "execution_count": null,
   "id": "3fd9523a",
   "metadata": {},
   "outputs": [],
   "source": []
  }
 ],
 "metadata": {
  "kernelspec": {
   "display_name": "Python 3 (ipykernel)",
   "language": "python",
   "name": "python3"
  },
  "language_info": {
   "codemirror_mode": {
    "name": "ipython",
    "version": 3
   },
   "file_extension": ".py",
   "mimetype": "text/x-python",
   "name": "python",
   "nbconvert_exporter": "python",
   "pygments_lexer": "ipython3",
   "version": "3.9.7"
  }
 },
 "nbformat": 4,
 "nbformat_minor": 5
}
