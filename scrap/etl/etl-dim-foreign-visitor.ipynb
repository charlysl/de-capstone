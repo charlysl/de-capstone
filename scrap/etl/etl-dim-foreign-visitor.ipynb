{
 "cells": [
  {
   "cell_type": "code",
   "execution_count": 1,
   "id": "03f1d28b",
   "metadata": {},
   "outputs": [],
   "source": [
    "import findspark\n",
    "findspark.init()\n",
    "\n",
    "import pyspark.sql.functions as F\n",
    "import pyspark.sql.types as T\n",
    "\n",
    "from etl import SparkETL\n",
    "from age import Age\n",
    "from stay import Stay\n",
    "from dim import VisitorDim"
   ]
  },
  {
   "cell_type": "markdown",
   "id": "5564f15c",
   "metadata": {},
   "source": [
    "Possible (but unlikely) **combinatorial explosion** for foreign_visitor_dim:\n",
    "```\n",
    "            'citizenship_id', 200 values\n",
    "            'residence_id',   200 values\n",
    "            'age_id',         5 values\n",
    "            'gender_id',      3 values\n",
    "            'visa_id',        3 values\n",
    "            'address_id',     50 values\n",
    "            'stay_id'         4 values\n",
    "```"
   ]
  },
  {
   "cell_type": "code",
   "execution_count": 2,
   "id": "bce689a7",
   "metadata": {},
   "outputs": [
    {
     "name": "stdout",
     "output_type": "stream",
     "text": [
      "potentially num_rows ~= 3.600000e+08\n"
     ]
    }
   ],
   "source": [
    "print('potentially num_rows ~= %e' % (200 * 200 * 5 * 3 * 3 * 50 * 4))"
   ]
  },
  {
   "cell_type": "code",
   "execution_count": 3,
   "id": "8161deea",
   "metadata": {},
   "outputs": [
    {
     "name": "stderr",
     "output_type": "stream",
     "text": [
      "WARNING: An illegal reflective access operation has occurred\n",
      "WARNING: Illegal reflective access by org.apache.spark.unsafe.Platform (file:/usr/local/Cellar/apache-spark/3.1.2/libexec/jars/spark-unsafe_2.12-3.1.2.jar) to constructor java.nio.DirectByteBuffer(long,int)\n",
      "WARNING: Please consider reporting this to the maintainers of org.apache.spark.unsafe.Platform\n",
      "WARNING: Use --illegal-access=warn to enable warnings of further illegal reflective access operations\n",
      "WARNING: All illegal access operations will be denied in a future release\n",
      "22/05/13 19:24:08 WARN NativeCodeLoader: Unable to load native-hadoop library for your platform... using builtin-java classes where applicable\n",
      "Using Spark's default log4j profile: org/apache/spark/log4j-defaults.properties\n",
      "Setting default log level to \"WARN\".\n",
      "To adjust logging level use sc.setLogLevel(newLevel). For SparkR, use setLogLevel(newLevel).\n"
     ]
    }
   ],
   "source": [
    "etl = SparkETL()\n",
    "spark = etl.get_spark()\n",
    "dim_helper = VisitorDim()"
   ]
  },
  {
   "cell_type": "code",
   "execution_count": 4,
   "id": "a45faaa7",
   "metadata": {},
   "outputs": [
    {
     "name": "stderr",
     "output_type": "stream",
     "text": [
      "\r",
      "[Stage 0:>                                                          (0 + 1) / 1]\r",
      "\r",
      "                                                                                \r"
     ]
    }
   ],
   "source": [
    "immigration = etl.read_clean_table('immigration')"
   ]
  },
  {
   "cell_type": "code",
   "execution_count": 5,
   "id": "2359021a",
   "metadata": {},
   "outputs": [],
   "source": [
    "def visitor_dim_nk(df):\n",
    "    return (\n",
    "        df.select(dim_helper.get_nk())\n",
    "        .drop_duplicates()\n",
    "    )"
   ]
  },
  {
   "cell_type": "code",
   "execution_count": 6,
   "id": "4706a358",
   "metadata": {},
   "outputs": [],
   "source": [
    "def join_immigration_with_visitor_dim(df):\n",
    "    \n",
    "    visitor_dim = etl.read_dim_table('foreign_visitor_dim')\n",
    "    \n",
    "    return (\n",
    "        df\n",
    "        .join(\n",
    "            visitor_dim, on=dim_helper.on_nk(df, visitor_dim), how='leftanti'\n",
    "        )\n",
    "    )"
   ]
  },
  {
   "cell_type": "code",
   "execution_count": 7,
   "id": "74994a12",
   "metadata": {},
   "outputs": [],
   "source": [
    "def fill_sk(df):\n",
    "    return df.withColumn('visitor_id', F.expr(dim_helper.gen_sk_expr()))"
   ]
  },
  {
   "cell_type": "code",
   "execution_count": 8,
   "id": "08c24e7c",
   "metadata": {},
   "outputs": [],
   "source": [
    "def fill_country(df, country, left_on, alias):\n",
    "    return (\n",
    "        df\n",
    "        .join(country, on=df[left_on] == country['country_id'], how='left')\n",
    "        .withColumnRenamed('country', alias)\n",
    "        .drop('country_id')\n",
    "    )"
   ]
  },
  {
   "cell_type": "code",
   "execution_count": 9,
   "id": "7ff5a9bd",
   "metadata": {},
   "outputs": [],
   "source": [
    "@F.udf(T.StringType())\n",
    "def fill_age_udf(age_id):\n",
    "    return Age.descriptions[age_id] if age_id else age_id"
   ]
  },
  {
   "cell_type": "code",
   "execution_count": 10,
   "id": "b91d99d3",
   "metadata": {},
   "outputs": [],
   "source": [
    "def fill_age(df):\n",
    "    return df.withColumn('age', fill_age_udf(F.col('age_id')))"
   ]
  },
  {
   "cell_type": "code",
   "execution_count": 11,
   "id": "995bfa69",
   "metadata": {},
   "outputs": [],
   "source": [
    "def fill_gender(df):\n",
    "    return df.withColumn(\n",
    "        'gender',\n",
    "        F.expr(\"\"\"\n",
    "            CASE gender_id\n",
    "                WHEN 'F' THEN 'Female'\n",
    "                WHEN 'M' THEN 'Male'\n",
    "                ELSE gender_id\n",
    "            END\n",
    "        \"\"\")\n",
    "    )"
   ]
  },
  {
   "cell_type": "code",
   "execution_count": 12,
   "id": "7ca72ecd",
   "metadata": {},
   "outputs": [],
   "source": [
    "def fill_visa(df):\n",
    "    return df.withColumn(\n",
    "        'visa',\n",
    "        F.expr(\"\"\"\n",
    "            CASE visa_id\n",
    "                WHEN 1 THEN 'Business'\n",
    "                WHEN 2 THEN 'Pleasure'\n",
    "                WHEN 3 THEN 'Student'\n",
    "                ELSE visa_id\n",
    "            END\n",
    "        \"\"\")\n",
    "    )"
   ]
  },
  {
   "cell_type": "code",
   "execution_count": 13,
   "id": "7053a823",
   "metadata": {},
   "outputs": [],
   "source": [
    "def fill_state(df, state):\n",
    "    return (\n",
    "        df\n",
    "        .join(\n",
    "            state,\n",
    "            on=df['address_id'] == state['state_id'],\n",
    "            how='left'\n",
    "        )\n",
    "        .drop('state_id')\n",
    "        .withColumnRenamed('name', 'address_state')\n",
    "        .withColumnRenamed('type_id', 'address_type_id')\n",
    "        .withColumnRenamed('type', 'address_type')\n",
    "    )"
   ]
  },
  {
   "cell_type": "code",
   "execution_count": 14,
   "id": "34e5858d",
   "metadata": {},
   "outputs": [],
   "source": [
    "def fill_climate(df, temperature):\n",
    "    return (\n",
    "        df\n",
    "        .join(\n",
    "            temperature,\n",
    "            on=df['address_id'] == temperature['state_id'],\n",
    "            how='left'\n",
    "        )\n",
    "        .drop('state_id')\n",
    "        .withColumnRenamed('climate_id', 'address_climate_id')\n",
    "        .withColumnRenamed('climate', 'address_climate')\n",
    "    )"
   ]
  },
  {
   "cell_type": "code",
   "execution_count": 15,
   "id": "0e6a7cd7",
   "metadata": {},
   "outputs": [],
   "source": [
    "@F.udf(T.StringType())\n",
    "def fill_stay_udf(stay_id):\n",
    "    return Stay.descriptions[stay_id]"
   ]
  },
  {
   "cell_type": "code",
   "execution_count": 16,
   "id": "ef27da56",
   "metadata": {},
   "outputs": [],
   "source": [
    "def fill_stay(df):\n",
    "    return df.withColumn('stay', fill_stay_udf(F.col('stay_id')))"
   ]
  },
  {
   "cell_type": "code",
   "execution_count": 17,
   "id": "c86f9e77",
   "metadata": {},
   "outputs": [],
   "source": [
    "def project_schema(df):\n",
    "    return df.select(\n",
    "        'visitor_id',\n",
    "        'citizenship_id',\n",
    "        'residence_id',\n",
    "        'age_id',\n",
    "        'gender_id',\n",
    "        'visa_id',\n",
    "        'address_id',\n",
    "        'stay_id',\n",
    "        'citizenship',\n",
    "        'residence',\n",
    "        'age',\n",
    "        'gender',\n",
    "        'visa',\n",
    "        'address_state',\n",
    "        'address_type_id',\n",
    "        'address_type',\n",
    "        'address_climate_id',\n",
    "        'address_climate',\n",
    "        'stay'\n",
    "    )"
   ]
  },
  {
   "cell_type": "code",
   "execution_count": 18,
   "id": "0a786c07",
   "metadata": {
    "scrolled": true
   },
   "outputs": [],
   "source": [
    "def missing_visitor(df, date):\n",
    "    \n",
    "    country = etl.read_clean_table('country')\n",
    "    state = etl.read_clean_table('state')\n",
    "    temperature = etl.read_clean_table('temperature')\n",
    "\n",
    "    return (\n",
    "        immigration\n",
    "        .pipe(SparkETL.filter_one_month, date)\n",
    "        .pipe(visitor_dim_nk)\n",
    "        .pipe(join_immigration_with_visitor_dim)\n",
    "        .pipe(fill_sk)\n",
    "        .pipe(fill_country, country, 'citizenship_id', 'citizenship')\n",
    "        .pipe(fill_country, country, 'residence_id', 'residence')\n",
    "        .pipe(fill_age)\n",
    "        .pipe(fill_gender)\n",
    "        .pipe(fill_visa)\n",
    "        .pipe(fill_state, state)\n",
    "        .pipe(fill_climate, temperature)\n",
    "        .pipe(fill_stay)\n",
    "        .pipe(project_schema)\n",
    "    )"
   ]
  },
  {
   "cell_type": "code",
   "execution_count": 19,
   "id": "2b64b978",
   "metadata": {},
   "outputs": [
    {
     "ename": "NameError",
     "evalue": "name 'date' is not defined",
     "output_type": "error",
     "traceback": [
      "\u001b[0;31m---------------------------------------------------------------------------\u001b[0m",
      "\u001b[0;31mNameError\u001b[0m                                 Traceback (most recent call last)",
      "\u001b[0;32m/var/folders/qv/mzlqg6j94kl_f0tjrgnt99_c0000gn/T/ipykernel_44125/3521813264.py\u001b[0m in \u001b[0;36m<module>\u001b[0;34m\u001b[0m\n\u001b[1;32m      1\u001b[0m etl.save_dim_table(\n\u001b[0;32m----> 2\u001b[0;31m     \u001b[0mimmigration\u001b[0m\u001b[0;34m.\u001b[0m\u001b[0mpipe\u001b[0m\u001b[0;34m(\u001b[0m\u001b[0mmissing_visitor\u001b[0m\u001b[0;34m,\u001b[0m \u001b[0mdate\u001b[0m\u001b[0;34m)\u001b[0m\u001b[0;34m,\u001b[0m\u001b[0;34m\u001b[0m\u001b[0;34m\u001b[0m\u001b[0m\n\u001b[0m\u001b[1;32m      3\u001b[0m     \u001b[0;34m'foreign_visitor_dim'\u001b[0m\u001b[0;34m\u001b[0m\u001b[0;34m\u001b[0m\u001b[0m\n\u001b[1;32m      4\u001b[0m )\n",
      "\u001b[0;31mNameError\u001b[0m: name 'date' is not defined"
     ]
    }
   ],
   "source": [
    "etl.save_dim_table(\n",
    "    immigration.pipe(missing_visitor, date),\n",
    "    'foreign_visitor_dim'\n",
    ")"
   ]
  },
  {
   "cell_type": "code",
   "execution_count": 25,
   "id": "18f67467",
   "metadata": {},
   "outputs": [
    {
     "name": "stdout",
     "output_type": "stream",
     "text": [
      "2016-01-01\n"
     ]
    },
    {
     "name": "stderr",
     "output_type": "stream",
     "text": [
      "                                                                                \r"
     ]
    },
    {
     "name": "stdout",
     "output_type": "stream",
     "text": [
      "2016-02-01\n"
     ]
    },
    {
     "name": "stderr",
     "output_type": "stream",
     "text": [
      "                                                                                \r"
     ]
    },
    {
     "name": "stdout",
     "output_type": "stream",
     "text": [
      "2016-03-01\n"
     ]
    },
    {
     "name": "stderr",
     "output_type": "stream",
     "text": [
      "                                                                                \r"
     ]
    },
    {
     "name": "stdout",
     "output_type": "stream",
     "text": [
      "2016-04-01\n"
     ]
    },
    {
     "name": "stderr",
     "output_type": "stream",
     "text": [
      "                                                                                \r"
     ]
    },
    {
     "name": "stdout",
     "output_type": "stream",
     "text": [
      "2016-05-01\n"
     ]
    },
    {
     "name": "stderr",
     "output_type": "stream",
     "text": [
      "                                                                                \r"
     ]
    },
    {
     "name": "stdout",
     "output_type": "stream",
     "text": [
      "2016-06-01\n",
      "2016-07-01\n"
     ]
    },
    {
     "name": "stderr",
     "output_type": "stream",
     "text": [
      "                                                                                \r"
     ]
    },
    {
     "name": "stdout",
     "output_type": "stream",
     "text": [
      "2016-08-01\n"
     ]
    },
    {
     "name": "stderr",
     "output_type": "stream",
     "text": [
      "                                                                                \r"
     ]
    },
    {
     "name": "stdout",
     "output_type": "stream",
     "text": [
      "2016-09-01\n"
     ]
    },
    {
     "name": "stderr",
     "output_type": "stream",
     "text": [
      "                                                                                \r"
     ]
    },
    {
     "name": "stdout",
     "output_type": "stream",
     "text": [
      "2016-10-01\n"
     ]
    },
    {
     "name": "stderr",
     "output_type": "stream",
     "text": [
      "                                                                                \r"
     ]
    },
    {
     "name": "stdout",
     "output_type": "stream",
     "text": [
      "2016-11-01\n"
     ]
    },
    {
     "name": "stderr",
     "output_type": "stream",
     "text": [
      "                                                                                \r"
     ]
    },
    {
     "name": "stdout",
     "output_type": "stream",
     "text": [
      "2016-12-01\n"
     ]
    },
    {
     "name": "stderr",
     "output_type": "stream",
     "text": [
      "                                                                                \r"
     ]
    }
   ],
   "source": [
    "from datetime import datetime\n",
    "\n",
    "for month in range(1,13):\n",
    "    date = f\"2016-{month:02d}-01\"\n",
    "    print(date)\n",
    "    etl.save_dim_table(\n",
    "        immigration.pipe(missing_visitor, date),\n",
    "        'foreign_visitor_dim'\n",
    "    )"
   ]
  },
  {
   "cell_type": "code",
   "execution_count": 26,
   "id": "ac19f093",
   "metadata": {},
   "outputs": [],
   "source": [
    "visitor_dim = etl.read_dim_table('foreign_visitor_dim')"
   ]
  },
  {
   "cell_type": "code",
   "execution_count": 27,
   "id": "bcd4ec5b",
   "metadata": {
    "scrolled": false
   },
   "outputs": [
    {
     "data": {
      "text/plain": [
       "True"
      ]
     },
     "execution_count": 27,
     "metadata": {},
     "output_type": "execute_result"
    }
   ],
   "source": [
    "visitor_dim.select('visitor_id').count() == visitor_dim.select('visitor_id').drop_duplicates().count()"
   ]
  },
  {
   "cell_type": "code",
   "execution_count": 28,
   "id": "51047150",
   "metadata": {},
   "outputs": [
    {
     "data": {
      "text/plain": [
       "1028336"
      ]
     },
     "execution_count": 28,
     "metadata": {},
     "output_type": "execute_result"
    }
   ],
   "source": [
    "visitor_dim.select('visitor_id').count()"
   ]
  },
  {
   "cell_type": "code",
   "execution_count": 29,
   "id": "17ef8e4b",
   "metadata": {},
   "outputs": [
    {
     "data": {
      "text/plain": [
       "1028336"
      ]
     },
     "execution_count": 29,
     "metadata": {},
     "output_type": "execute_result"
    }
   ],
   "source": [
    "visitor_dim.select('visitor_id').drop_duplicates().count()"
   ]
  },
  {
   "cell_type": "markdown",
   "id": "455349bf",
   "metadata": {},
   "source": [
    "TODO: address_type_id and address_climate_id should be int instead of float"
   ]
  },
  {
   "cell_type": "code",
   "execution_count": 25,
   "id": "e699ed8b",
   "metadata": {},
   "outputs": [
    {
     "data": {
      "text/html": [
       "<div>\n",
       "<style scoped>\n",
       "    .dataframe tbody tr th:only-of-type {\n",
       "        vertical-align: middle;\n",
       "    }\n",
       "\n",
       "    .dataframe tbody tr th {\n",
       "        vertical-align: top;\n",
       "    }\n",
       "\n",
       "    .dataframe thead th {\n",
       "        text-align: right;\n",
       "    }\n",
       "</style>\n",
       "<table border=\"1\" class=\"dataframe\">\n",
       "  <thead>\n",
       "    <tr style=\"text-align: right;\">\n",
       "      <th></th>\n",
       "      <th>visitor_id</th>\n",
       "      <th>citizenship_id</th>\n",
       "      <th>residence_id</th>\n",
       "      <th>age_id</th>\n",
       "      <th>gender_id</th>\n",
       "      <th>visa_id</th>\n",
       "      <th>address_id</th>\n",
       "      <th>stay_id</th>\n",
       "      <th>citizenship</th>\n",
       "      <th>residence</th>\n",
       "      <th>age</th>\n",
       "      <th>gender</th>\n",
       "      <th>visa</th>\n",
       "      <th>address_state</th>\n",
       "      <th>address_type_id</th>\n",
       "      <th>address_type</th>\n",
       "      <th>address_climate_id</th>\n",
       "      <th>address_climate</th>\n",
       "      <th>stay</th>\n",
       "    </tr>\n",
       "  </thead>\n",
       "  <tbody>\n",
       "    <tr>\n",
       "      <th>0</th>\n",
       "      <td>8589934592</td>\n",
       "      <td>101</td>\n",
       "      <td>101</td>\n",
       "      <td>1</td>\n",
       "      <td>M</td>\n",
       "      <td>2</td>\n",
       "      <td>CT</td>\n",
       "      <td>2</td>\n",
       "      <td>ALBANIA</td>\n",
       "      <td>ALBANIA</td>\n",
       "      <td>Gen Z (7-22)</td>\n",
       "      <td>Male</td>\n",
       "      <td>Pleasure</td>\n",
       "      <td>Connecticut</td>\n",
       "      <td>0.0</td>\n",
       "      <td>State</td>\n",
       "      <td>2.0</td>\n",
       "      <td>temperate</td>\n",
       "      <td>8-30 days</td>\n",
       "    </tr>\n",
       "    <tr>\n",
       "      <th>1</th>\n",
       "      <td>8589934593</td>\n",
       "      <td>696</td>\n",
       "      <td>696</td>\n",
       "      <td>3</td>\n",
       "      <td>F</td>\n",
       "      <td>2</td>\n",
       "      <td>UNKNOWN</td>\n",
       "      <td>2</td>\n",
       "      <td>VENEZUELA</td>\n",
       "      <td>VENEZUELA</td>\n",
       "      <td>Gen X (40-54)</td>\n",
       "      <td>Female</td>\n",
       "      <td>Pleasure</td>\n",
       "      <td>None</td>\n",
       "      <td>NaN</td>\n",
       "      <td>None</td>\n",
       "      <td>NaN</td>\n",
       "      <td>None</td>\n",
       "      <td>8-30 days</td>\n",
       "    </tr>\n",
       "    <tr>\n",
       "      <th>2</th>\n",
       "      <td>8589934594</td>\n",
       "      <td>104</td>\n",
       "      <td>104</td>\n",
       "      <td>3</td>\n",
       "      <td>M</td>\n",
       "      <td>2</td>\n",
       "      <td>HI</td>\n",
       "      <td>2</td>\n",
       "      <td>BELGIUM</td>\n",
       "      <td>BELGIUM</td>\n",
       "      <td>Gen X (40-54)</td>\n",
       "      <td>Male</td>\n",
       "      <td>Pleasure</td>\n",
       "      <td>Hawaii</td>\n",
       "      <td>0.0</td>\n",
       "      <td>State</td>\n",
       "      <td>4.0</td>\n",
       "      <td>tropical</td>\n",
       "      <td>8-30 days</td>\n",
       "    </tr>\n",
       "    <tr>\n",
       "      <th>3</th>\n",
       "      <td>8589934595</td>\n",
       "      <td>101</td>\n",
       "      <td>101</td>\n",
       "      <td>5</td>\n",
       "      <td>M</td>\n",
       "      <td>2</td>\n",
       "      <td>MA</td>\n",
       "      <td>4</td>\n",
       "      <td>ALBANIA</td>\n",
       "      <td>ALBANIA</td>\n",
       "      <td>Senior (&gt;75)</td>\n",
       "      <td>Male</td>\n",
       "      <td>Pleasure</td>\n",
       "      <td>Massachusetts</td>\n",
       "      <td>0.0</td>\n",
       "      <td>State</td>\n",
       "      <td>1.0</td>\n",
       "      <td>continental</td>\n",
       "      <td>not departed</td>\n",
       "    </tr>\n",
       "    <tr>\n",
       "      <th>4</th>\n",
       "      <td>8589934596</td>\n",
       "      <td>696</td>\n",
       "      <td>696</td>\n",
       "      <td>1</td>\n",
       "      <td>M</td>\n",
       "      <td>2</td>\n",
       "      <td>CA</td>\n",
       "      <td>2</td>\n",
       "      <td>VENEZUELA</td>\n",
       "      <td>VENEZUELA</td>\n",
       "      <td>Gen Z (7-22)</td>\n",
       "      <td>Male</td>\n",
       "      <td>Pleasure</td>\n",
       "      <td>California</td>\n",
       "      <td>0.0</td>\n",
       "      <td>State</td>\n",
       "      <td>3.0</td>\n",
       "      <td>warm</td>\n",
       "      <td>8-30 days</td>\n",
       "    </tr>\n",
       "    <tr>\n",
       "      <th>5</th>\n",
       "      <td>8589934597</td>\n",
       "      <td>104</td>\n",
       "      <td>104</td>\n",
       "      <td>4</td>\n",
       "      <td>F</td>\n",
       "      <td>2</td>\n",
       "      <td>UNKNOWN</td>\n",
       "      <td>0</td>\n",
       "      <td>BELGIUM</td>\n",
       "      <td>BELGIUM</td>\n",
       "      <td>Boomer (55-75)</td>\n",
       "      <td>Female</td>\n",
       "      <td>Pleasure</td>\n",
       "      <td>None</td>\n",
       "      <td>NaN</td>\n",
       "      <td>None</td>\n",
       "      <td>NaN</td>\n",
       "      <td>None</td>\n",
       "      <td>1 day</td>\n",
       "    </tr>\n",
       "    <tr>\n",
       "      <th>6</th>\n",
       "      <td>8589934598</td>\n",
       "      <td>696</td>\n",
       "      <td>696</td>\n",
       "      <td>2</td>\n",
       "      <td>M</td>\n",
       "      <td>3</td>\n",
       "      <td>CO</td>\n",
       "      <td>3</td>\n",
       "      <td>VENEZUELA</td>\n",
       "      <td>VENEZUELA</td>\n",
       "      <td>Millennial (23-38)</td>\n",
       "      <td>Male</td>\n",
       "      <td>Student</td>\n",
       "      <td>Colorado</td>\n",
       "      <td>0.0</td>\n",
       "      <td>State</td>\n",
       "      <td>1.0</td>\n",
       "      <td>continental</td>\n",
       "      <td>&gt;30 days</td>\n",
       "    </tr>\n",
       "    <tr>\n",
       "      <th>7</th>\n",
       "      <td>8589934599</td>\n",
       "      <td>101</td>\n",
       "      <td>101</td>\n",
       "      <td>2</td>\n",
       "      <td>M</td>\n",
       "      <td>2</td>\n",
       "      <td>TN</td>\n",
       "      <td>2</td>\n",
       "      <td>ALBANIA</td>\n",
       "      <td>ALBANIA</td>\n",
       "      <td>Millennial (23-38)</td>\n",
       "      <td>Male</td>\n",
       "      <td>Pleasure</td>\n",
       "      <td>Tennessee</td>\n",
       "      <td>0.0</td>\n",
       "      <td>State</td>\n",
       "      <td>3.0</td>\n",
       "      <td>warm</td>\n",
       "      <td>8-30 days</td>\n",
       "    </tr>\n",
       "    <tr>\n",
       "      <th>8</th>\n",
       "      <td>8589934600</td>\n",
       "      <td>101</td>\n",
       "      <td>101</td>\n",
       "      <td>4</td>\n",
       "      <td>M</td>\n",
       "      <td>2</td>\n",
       "      <td>UNKNOWN</td>\n",
       "      <td>4</td>\n",
       "      <td>ALBANIA</td>\n",
       "      <td>ALBANIA</td>\n",
       "      <td>Boomer (55-75)</td>\n",
       "      <td>Male</td>\n",
       "      <td>Pleasure</td>\n",
       "      <td>None</td>\n",
       "      <td>NaN</td>\n",
       "      <td>None</td>\n",
       "      <td>NaN</td>\n",
       "      <td>None</td>\n",
       "      <td>not departed</td>\n",
       "    </tr>\n",
       "    <tr>\n",
       "      <th>9</th>\n",
       "      <td>8589934601</td>\n",
       "      <td>101</td>\n",
       "      <td>101</td>\n",
       "      <td>5</td>\n",
       "      <td>F</td>\n",
       "      <td>2</td>\n",
       "      <td>NV</td>\n",
       "      <td>4</td>\n",
       "      <td>ALBANIA</td>\n",
       "      <td>ALBANIA</td>\n",
       "      <td>Senior (&gt;75)</td>\n",
       "      <td>Female</td>\n",
       "      <td>Pleasure</td>\n",
       "      <td>Nevada</td>\n",
       "      <td>0.0</td>\n",
       "      <td>State</td>\n",
       "      <td>2.0</td>\n",
       "      <td>temperate</td>\n",
       "      <td>not departed</td>\n",
       "    </tr>\n",
       "  </tbody>\n",
       "</table>\n",
       "</div>"
      ],
      "text/plain": [
       "   visitor_id  citizenship_id  residence_id  age_id gender_id  visa_id  \\\n",
       "0  8589934592             101           101       1         M        2   \n",
       "1  8589934593             696           696       3         F        2   \n",
       "2  8589934594             104           104       3         M        2   \n",
       "3  8589934595             101           101       5         M        2   \n",
       "4  8589934596             696           696       1         M        2   \n",
       "5  8589934597             104           104       4         F        2   \n",
       "6  8589934598             696           696       2         M        3   \n",
       "7  8589934599             101           101       2         M        2   \n",
       "8  8589934600             101           101       4         M        2   \n",
       "9  8589934601             101           101       5         F        2   \n",
       "\n",
       "  address_id  stay_id citizenship  residence                 age  gender  \\\n",
       "0         CT        2     ALBANIA    ALBANIA        Gen Z (7-22)    Male   \n",
       "1    UNKNOWN        2   VENEZUELA  VENEZUELA       Gen X (40-54)  Female   \n",
       "2         HI        2     BELGIUM    BELGIUM       Gen X (40-54)    Male   \n",
       "3         MA        4     ALBANIA    ALBANIA        Senior (>75)    Male   \n",
       "4         CA        2   VENEZUELA  VENEZUELA        Gen Z (7-22)    Male   \n",
       "5    UNKNOWN        0     BELGIUM    BELGIUM      Boomer (55-75)  Female   \n",
       "6         CO        3   VENEZUELA  VENEZUELA  Millennial (23-38)    Male   \n",
       "7         TN        2     ALBANIA    ALBANIA  Millennial (23-38)    Male   \n",
       "8    UNKNOWN        4     ALBANIA    ALBANIA      Boomer (55-75)    Male   \n",
       "9         NV        4     ALBANIA    ALBANIA        Senior (>75)  Female   \n",
       "\n",
       "       visa  address_state  address_type_id address_type  address_climate_id  \\\n",
       "0  Pleasure    Connecticut              0.0        State                 2.0   \n",
       "1  Pleasure           None              NaN         None                 NaN   \n",
       "2  Pleasure         Hawaii              0.0        State                 4.0   \n",
       "3  Pleasure  Massachusetts              0.0        State                 1.0   \n",
       "4  Pleasure     California              0.0        State                 3.0   \n",
       "5  Pleasure           None              NaN         None                 NaN   \n",
       "6   Student       Colorado              0.0        State                 1.0   \n",
       "7  Pleasure      Tennessee              0.0        State                 3.0   \n",
       "8  Pleasure           None              NaN         None                 NaN   \n",
       "9  Pleasure         Nevada              0.0        State                 2.0   \n",
       "\n",
       "  address_climate          stay  \n",
       "0       temperate     8-30 days  \n",
       "1            None     8-30 days  \n",
       "2        tropical     8-30 days  \n",
       "3     continental  not departed  \n",
       "4            warm     8-30 days  \n",
       "5            None         1 day  \n",
       "6     continental      >30 days  \n",
       "7            warm     8-30 days  \n",
       "8            None  not departed  \n",
       "9       temperate  not departed  "
      ]
     },
     "execution_count": 25,
     "metadata": {},
     "output_type": "execute_result"
    }
   ],
   "source": [
    "visitor_dim.limit(10).toPandas()"
   ]
  },
  {
   "cell_type": "code",
   "execution_count": 72,
   "id": "1c34bf59",
   "metadata": {},
   "outputs": [],
   "source": [
    "import pandas as pd\n",
    "pd.set_option('display.max_rows', 2000)"
   ]
  },
  {
   "cell_type": "code",
   "execution_count": 98,
   "id": "0aa64b81",
   "metadata": {},
   "outputs": [],
   "source": [
    "col = 'stay'"
   ]
  },
  {
   "cell_type": "code",
   "execution_count": 99,
   "id": "3da2fa13",
   "metadata": {},
   "outputs": [
    {
     "data": {
      "text/plain": [
       "<AxesSubplot:ylabel='stay'>"
      ]
     },
     "execution_count": 99,
     "metadata": {},
     "output_type": "execute_result"
    },
    {
     "data": {
      "image/png": "[encoded data removed]",
      "text/plain": [
       "<Figure size 432x288 with 1 Axes>"
      ]
     },
     "metadata": {
      "needs_background": "light"
     },
     "output_type": "display_data"
    }
   ],
   "source": [
    "(\n",
    "    visitor_dim\n",
    "    .groupby(col)\n",
    "    .count()\n",
    "    .sort(F.desc('count'))\n",
    ").toPandas().iloc[:20].plot(x=col, y='count', kind='barh')"
   ]
  },
  {
   "cell_type": "code",
   "execution_count": null,
   "id": "eedcbf92",
   "metadata": {},
   "outputs": [],
   "source": []
  },
  {
   "cell_type": "code",
   "execution_count": 39,
   "id": "e66f3d28",
   "metadata": {},
   "outputs": [],
   "source": []
  },
  {
   "cell_type": "code",
   "execution_count": null,
   "id": "24f1850d",
   "metadata": {},
   "outputs": [],
   "source": []
  }
 ],
 "metadata": {
  "kernelspec": {
   "display_name": "Python 3 (ipykernel)",
   "language": "python",
   "name": "python3"
  },
  "language_info": {
   "codemirror_mode": {
    "name": "ipython",
    "version": 3
   },
   "file_extension": ".py",
   "mimetype": "text/x-python",
   "name": "python",
   "nbconvert_exporter": "python",
   "pygments_lexer": "ipython3",
   "version": "3.9.7"
  }
 },
 "nbformat": 4,
 "nbformat_minor": 5
}
