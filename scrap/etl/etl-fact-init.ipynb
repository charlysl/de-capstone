{
 "cells": [
  {
   "cell_type": "code",
   "execution_count": 1,
   "id": "57ba5e7d",
   "metadata": {},
   "outputs": [],
   "source": [
    "import findspark\n",
    "findspark.init()\n",
    "\n",
    "from pyspark.sql import DataFrame\n",
    "import pyspark.sql.types as T\n",
    "\n",
    "from etl import SparkETL"
   ]
  },
  {
   "cell_type": "code",
   "execution_count": 2,
   "id": "1d73766d",
   "metadata": {},
   "outputs": [
    {
     "name": "stderr",
     "output_type": "stream",
     "text": [
      "WARNING: An illegal reflective access operation has occurred\n",
      "WARNING: Illegal reflective access by org.apache.spark.unsafe.Platform (file:/usr/local/Cellar/apache-spark/3.1.2/libexec/jars/spark-unsafe_2.12-3.1.2.jar) to constructor java.nio.DirectByteBuffer(long,int)\n",
      "WARNING: Please consider reporting this to the maintainers of org.apache.spark.unsafe.Platform\n",
      "WARNING: Use --illegal-access=warn to enable warnings of further illegal reflective access operations\n",
      "WARNING: All illegal access operations will be denied in a future release\n",
      "22/05/13 18:44:48 WARN NativeCodeLoader: Unable to load native-hadoop library for your platform... using builtin-java classes where applicable\n",
      "Using Spark's default log4j profile: org/apache/spark/log4j-defaults.properties\n",
      "Setting default log level to \"WARN\".\n",
      "To adjust logging level use sc.setLogLevel(newLevel). For SparkR, use setLogLevel(newLevel).\n",
      "22/05/13 18:44:49 WARN Utils: Service 'SparkUI' could not bind on port 4040. Attempting port 4041.\n"
     ]
    }
   ],
   "source": [
    "etl = SparkETL()\n",
    "spark = etl.get_spark()"
   ]
  },
  {
   "cell_type": "code",
   "execution_count": 3,
   "id": "015782f9",
   "metadata": {},
   "outputs": [],
   "source": [
    "schema = T.StructType([\n",
    "    T.StructField('time_id', T.StringType(), False),\n",
    "    T.StructField('route_id', T.StringType(), False),\n",
    "    T.StructField('visitor_id', T.StringType(), False),\n",
    "    T.StructField('num_visitors', T.LongType(), False),\n",
    "    T.StructField('age_avg', T.DoubleType(), True),\n",
    "    T.StructField('age_std', T.DoubleType(), True),\n",
    "    T.StructField('stay_avg', T.DoubleType(), True),\n",
    "    T.StructField('stay_std', T.DoubleType(), True),\n",
    "])"
   ]
  },
  {
   "cell_type": "code",
   "execution_count": 4,
   "id": "bf594662",
   "metadata": {},
   "outputs": [],
   "source": [
    "def empty_dataframe(schema):\n",
    "    return spark.createDataFrame([], schema)"
   ]
  },
  {
   "cell_type": "code",
   "execution_count": 5,
   "id": "c8068e72",
   "metadata": {},
   "outputs": [
    {
     "name": "stderr",
     "output_type": "stream",
     "text": [
      "                                                                                \r"
     ]
    }
   ],
   "source": [
    "etl.init_fact_table(\n",
    "    empty_dataframe(schema),\n",
    "    'flight_fact'\n",
    ")"
   ]
  },
  {
   "cell_type": "code",
   "execution_count": 7,
   "id": "f13d4463",
   "metadata": {
    "scrolled": true
   },
   "outputs": [
    {
     "data": {
      "text/html": [
       "<div>\n",
       "<style scoped>\n",
       "    .dataframe tbody tr th:only-of-type {\n",
       "        vertical-align: middle;\n",
       "    }\n",
       "\n",
       "    .dataframe tbody tr th {\n",
       "        vertical-align: top;\n",
       "    }\n",
       "\n",
       "    .dataframe thead th {\n",
       "        text-align: right;\n",
       "    }\n",
       "</style>\n",
       "<table border=\"1\" class=\"dataframe\">\n",
       "  <thead>\n",
       "    <tr style=\"text-align: right;\">\n",
       "      <th></th>\n",
       "      <th>time_id</th>\n",
       "      <th>route_id</th>\n",
       "      <th>visitor_id</th>\n",
       "      <th>num_visitors</th>\n",
       "      <th>age_avg</th>\n",
       "      <th>age_std</th>\n",
       "      <th>stay_avg</th>\n",
       "      <th>stay_std</th>\n",
       "    </tr>\n",
       "  </thead>\n",
       "  <tbody>\n",
       "  </tbody>\n",
       "</table>\n",
       "</div>"
      ],
      "text/plain": [
       "Empty DataFrame\n",
       "Columns: [time_id, route_id, visitor_id, num_visitors, age_avg, age_std, stay_avg, stay_std]\n",
       "Index: []"
      ]
     },
     "execution_count": 7,
     "metadata": {},
     "output_type": "execute_result"
    }
   ],
   "source": [
    "etl.read_fact_table('flight_fact').toPandas()"
   ]
  },
  {
   "cell_type": "code",
   "execution_count": null,
   "id": "771607e1",
   "metadata": {},
   "outputs": [],
   "source": []
  }
 ],
 "metadata": {
  "kernelspec": {
   "display_name": "Python 3 (ipykernel)",
   "language": "python",
   "name": "python3"
  },
  "language_info": {
   "codemirror_mode": {
    "name": "ipython",
    "version": 3
   },
   "file_extension": ".py",
   "mimetype": "text/x-python",
   "name": "python",
   "nbconvert_exporter": "python",
   "pygments_lexer": "ipython3",
   "version": "3.9.7"
  }
 },
 "nbformat": 4,
 "nbformat_minor": 5
}
