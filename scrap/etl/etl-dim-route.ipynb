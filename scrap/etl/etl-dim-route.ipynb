{
 "cells": [
  {
   "cell_type": "code",
   "execution_count": 42,
   "id": "25af7dcb",
   "metadata": {},
   "outputs": [],
   "source": [
    "import findspark\n",
    "findspark.init()\n",
    "\n",
    "import pyspark.sql.types as T\n",
    "import pyspark.sql.functions as F\n",
    "\n",
    "import pandas as pd\n",
    "pd.set_option('display.max_columns', None)\n",
    "pd.set_option('display.max_rows', None)\n",
    "\n",
    "from etl import SparkETL"
   ]
  },
  {
   "cell_type": "code",
   "execution_count": 43,
   "id": "cd906529",
   "metadata": {},
   "outputs": [],
   "source": [
    "etl = SparkETL()\n",
    "spark = etl.get_spark()"
   ]
  },
  {
   "cell_type": "code",
   "execution_count": 44,
   "id": "ed809e8e",
   "metadata": {},
   "outputs": [],
   "source": [
    "immigration = etl.read_clean_table('immigration')"
   ]
  },
  {
   "cell_type": "code",
   "execution_count": 45,
   "id": "ba509906",
   "metadata": {},
   "outputs": [],
   "source": [
    "def route_nk(df):\n",
    "    return (\n",
    "        df\n",
    "        .select('airline', 'flight_number', 'port_id')\n",
    "        .drop_duplicates()\n",
    "    )"
   ]
  },
  {
   "cell_type": "code",
   "execution_count": 46,
   "id": "de4a63eb",
   "metadata": {},
   "outputs": [],
   "source": [
    "def missing_routes(df):\n",
    "    \n",
    "    route_dim = etl.read_dim_table('route_dim')\n",
    "    \n",
    "    return (\n",
    "        df\n",
    "        .join(\n",
    "            route_dim,\n",
    "            on=(\n",
    "                (df['airline'] == route_dim['airline'])\n",
    "                & (df['flight_number'] == route_dim['flight_number'])\n",
    "                & (df['port_id'] == route_dim['port_id'])\n",
    "            ),\n",
    "            how='leftanti'\n",
    "        )\n",
    "    )"
   ]
  },
  {
   "cell_type": "code",
   "execution_count": 47,
   "id": "37b40c9f",
   "metadata": {},
   "outputs": [],
   "source": [
    "def coordinate_expr(index):\n",
    "    return F.expr(f\"\"\"\n",
    "            CAST(\n",
    "                ELEMENT_AT(\n",
    "                    SPLIT(dst_coordinates, ','), \n",
    "                    {index}\n",
    "                ) \n",
    "                AS DOUBLE\n",
    "            )\n",
    "        \"\"\")"
   ]
  },
  {
   "cell_type": "code",
   "execution_count": 48,
   "id": "08085bae",
   "metadata": {},
   "outputs": [],
   "source": [
    "def fill_sk(df):\n",
    "    return df.withColumn('route_id', F.monotonically_increasing_id())"
   ]
  },
  {
   "cell_type": "code",
   "execution_count": 49,
   "id": "c44fc552",
   "metadata": {},
   "outputs": [],
   "source": [
    "def fill_airport(df):\n",
    "    \n",
    "    airports = (\n",
    "        etl.read_clean_table('airport')\n",
    "        .withColumnRenamed('airport_id', 'dst_airport_id')\n",
    "    )\n",
    "    \n",
    "    ports_to_airports = (\n",
    "        etl.read_clean_table('port_to_airport')\n",
    "        .withColumnRenamed('port_id', 'airport_port_id')\n",
    "    )\n",
    "    \n",
    "    return (\n",
    "        df\n",
    "        .join(\n",
    "            ports_to_airports,\n",
    "            on=df['port_id'] == ports_to_airports['airport_port_id'],\n",
    "            how='left'\n",
    "        )\n",
    "        .drop('airport_port_id')\n",
    "        .join(\n",
    "            airports,\n",
    "            on=ports_to_airports['airport_id'] == airports['dst_airport_id'],\n",
    "            how='left'\n",
    "        )\n",
    "        .drop('airport_id')\n",
    "        .withColumnRenamed('city', 'dst_city')\n",
    "        .withColumnRenamed('state_id', 'dst_state_id')\n",
    "        .withColumnRenamed('name', 'dst_airport_name')\n",
    "        .withColumnRenamed('international', 'dst_airport_international')\n",
    "        .withColumnRenamed('type_id', 'dst_airport_type_id')\n",
    "        .withColumnRenamed('type', 'dst_airport_type')\n",
    "        .withColumnRenamed('coordinates', 'dst_coordinates')\n",
    "        .withColumn('dst_longitude', coordinate_expr(1))\n",
    "        .withColumn('dst_latitude', coordinate_expr(2))\n",
    "    )"
   ]
  },
  {
   "cell_type": "code",
   "execution_count": 50,
   "id": "b22a7b3e",
   "metadata": {},
   "outputs": [],
   "source": [
    "def fill_demographics(df):\n",
    "    \n",
    "    demographics = etl.read_clean_table('demographics')\n",
    "    \n",
    "    return (\n",
    "        df\n",
    "        .join(\n",
    "            demographics,\n",
    "            on=(\n",
    "                (df['dst_state_id'] == demographics['state_id'])\n",
    "                & (df['dst_city'] == demographics['city'])\n",
    "            ),\n",
    "            how='left'\n",
    "        )\n",
    "        .drop('state_id', 'city')\n",
    "        .withColumnRenamed('asian', 'dst_asian')\n",
    "        .withColumnRenamed('black', 'dst_black')\n",
    "        .withColumnRenamed('latino', 'dst_latino')\n",
    "        .withColumnRenamed('native', 'dst_native')\n",
    "        .withColumnRenamed('white', 'dst_white')\n",
    "        .withColumnRenamed('ethnicity_id', 'dst_ethnicity_id')\n",
    "        .withColumnRenamed('ethnicity', 'dst_ethnicity')\n",
    "        .withColumnRenamed('population', 'dst_population')\n",
    "        .withColumnRenamed('size_id', 'dst_size_id')\n",
    "        .withColumnRenamed('size', 'dst_size')\n",
    "    )"
   ]
  },
  {
   "cell_type": "code",
   "execution_count": 51,
   "id": "a0c2e148",
   "metadata": {},
   "outputs": [],
   "source": [
    "def fill_state(df):\n",
    "    \n",
    "    states = etl.read_clean_table('state')\n",
    "    \n",
    "    return (\n",
    "        df\n",
    "        .join(states, on=df['dst_state_id'] == states['state_id'], how='left')\n",
    "        .drop('state_id')\n",
    "        .withColumnRenamed('name', 'dst_state_name')\n",
    "        .withColumnRenamed('type_id', 'dst_state_type_id')\n",
    "        .withColumnRenamed('type', 'dst_state_type')\n",
    "    )"
   ]
  },
  {
   "cell_type": "code",
   "execution_count": 52,
   "id": "0d2721ec",
   "metadata": {},
   "outputs": [],
   "source": [
    "def fill_temperature(df):\n",
    "    \n",
    "    temperatures = etl.read_clean_table('temperature')\n",
    "    \n",
    "    return (\n",
    "        df\n",
    "        .join(temperatures, on=df['dst_state_id'] == temperatures['state_id'], how='left')\n",
    "        .drop('state_id')\n",
    "        .withColumnRenamed('climate_id', 'dst_state_climate_id')\n",
    "        .withColumnRenamed('climate', 'dst_state_climate')\n",
    "    )"
   ]
  },
  {
   "cell_type": "code",
   "execution_count": 37,
   "id": "7b5cdbfc",
   "metadata": {},
   "outputs": [],
   "source": [
    "def fill_missing_routes(df):\n",
    "    return (\n",
    "        df\n",
    "        .pipe(missing_routes)\n",
    "        .pipe(route_nk)\n",
    "        .pipe(fill_sk)\n",
    "        .pipe(fill_airport)\n",
    "        .pipe(fill_demographics)\n",
    "        .pipe(fill_state)\n",
    "        .pipe(fill_temperature)\n",
    "    )"
   ]
  },
  {
   "cell_type": "code",
   "execution_count": 55,
   "id": "f0fdd981",
   "metadata": {},
   "outputs": [
    {
     "name": "stderr",
     "output_type": "stream",
     "text": [
      "22/05/08 15:02:04 WARN MemoryManager: Total allocation exceeds 95.00% (1,020,054,720 bytes) of heap memory\n",
      "Scaling row group sizes to 95.00% for 8 writers\n",
      "22/05/08 15:02:04 WARN MemoryManager: Total allocation exceeds 95.00% (1,020,054,720 bytes) of heap memory\n",
      "Scaling row group sizes to 84.44% for 9 writers\n",
      "22/05/08 15:02:04 WARN MemoryManager: Total allocation exceeds 95.00% (1,020,054,720 bytes) of heap memory\n",
      "Scaling row group sizes to 76.00% for 10 writers\n",
      "22/05/08 15:02:04 WARN MemoryManager: Total allocation exceeds 95.00% (1,020,054,720 bytes) of heap memory\n",
      "Scaling row group sizes to 69.09% for 11 writers\n",
      "22/05/08 15:02:04 WARN MemoryManager: Total allocation exceeds 95.00% (1,020,054,720 bytes) of heap memory\n",
      "Scaling row group sizes to 63.33% for 12 writers\n",
      "22/05/08 15:02:04 WARN MemoryManager: Total allocation exceeds 95.00% (1,020,054,720 bytes) of heap memory\n",
      "Scaling row group sizes to 69.09% for 11 writers\n",
      "22/05/08 15:02:04 WARN MemoryManager: Total allocation exceeds 95.00% (1,020,054,720 bytes) of heap memory\n",
      "Scaling row group sizes to 76.00% for 10 writers\n",
      "22/05/08 15:02:04 WARN MemoryManager: Total allocation exceeds 95.00% (1,020,054,720 bytes) of heap memory\n",
      "Scaling row group sizes to 84.44% for 9 writers\n",
      "22/05/08 15:02:04 WARN MemoryManager: Total allocation exceeds 95.00% (1,020,054,720 bytes) of heap memory\n",
      "Scaling row group sizes to 95.00% for 8 writers\n",
      "22/05/08 15:02:04 WARN MemoryManager: Total allocation exceeds 95.00% (1,020,054,720 bytes) of heap memory\n",
      "Scaling row group sizes to 95.00% for 8 writers\n",
      "22/05/08 15:02:04 WARN MemoryManager: Total allocation exceeds 95.00% (1,020,054,720 bytes) of heap memory\n",
      "Scaling row group sizes to 84.44% for 9 writers\n",
      "22/05/08 15:02:04 WARN MemoryManager: Total allocation exceeds 95.00% (1,020,054,720 bytes) of heap memory\n",
      "Scaling row group sizes to 95.00% for 8 writers\n",
      "22/05/08 15:02:04 WARN MemoryManager: Total allocation exceeds 95.00% (1,020,054,720 bytes) of heap memory\n",
      "Scaling row group sizes to 95.00% for 8 writers\n",
      "22/05/08 15:02:04 WARN MemoryManager: Total allocation exceeds 95.00% (1,020,054,720 bytes) of heap memory\n",
      "Scaling row group sizes to 84.44% for 9 writers\n",
      "22/05/08 15:02:04 WARN MemoryManager: Total allocation exceeds 95.00% (1,020,054,720 bytes) of heap memory\n",
      "Scaling row group sizes to 76.00% for 10 writers\n",
      "22/05/08 15:02:04 WARN MemoryManager: Total allocation exceeds 95.00% (1,020,054,720 bytes) of heap memory\n",
      "Scaling row group sizes to 69.09% for 11 writers\n",
      "22/05/08 15:02:04 WARN MemoryManager: Total allocation exceeds 95.00% (1,020,054,720 bytes) of heap memory\n",
      "Scaling row group sizes to 63.33% for 12 writers\n",
      "22/05/08 15:02:04 WARN MemoryManager: Total allocation exceeds 95.00% (1,020,054,720 bytes) of heap memory\n",
      "Scaling row group sizes to 69.09% for 11 writers\n",
      "22/05/08 15:02:04 WARN MemoryManager: Total allocation exceeds 95.00% (1,020,054,720 bytes) of heap memory\n",
      "Scaling row group sizes to 76.00% for 10 writers\n",
      "22/05/08 15:02:04 WARN MemoryManager: Total allocation exceeds 95.00% (1,020,054,720 bytes) of heap memory\n",
      "Scaling row group sizes to 84.44% for 9 writers\n",
      "22/05/08 15:02:04 WARN MemoryManager: Total allocation exceeds 95.00% (1,020,054,720 bytes) of heap memory\n",
      "Scaling row group sizes to 95.00% for 8 writers\n",
      "22/05/08 15:02:04 WARN MemoryManager: Total allocation exceeds 95.00% (1,020,054,720 bytes) of heap memory\n",
      "Scaling row group sizes to 95.00% for 8 writers\n",
      "22/05/08 15:02:04 WARN MemoryManager: Total allocation exceeds 95.00% (1,020,054,720 bytes) of heap memory\n",
      "Scaling row group sizes to 84.44% for 9 writers\n",
      "22/05/08 15:02:04 WARN MemoryManager: Total allocation exceeds 95.00% (1,020,054,720 bytes) of heap memory\n",
      "Scaling row group sizes to 95.00% for 8 writers\n",
      "22/05/08 15:02:05 WARN MemoryManager: Total allocation exceeds 95.00% (1,020,054,720 bytes) of heap memory\n",
      "Scaling row group sizes to 95.00% for 8 writers\n",
      "22/05/08 15:02:05 WARN MemoryManager: Total allocation exceeds 95.00% (1,020,054,720 bytes) of heap memory\n",
      "Scaling row group sizes to 95.00% for 8 writers\n",
      "22/05/08 15:02:05 WARN MemoryManager: Total allocation exceeds 95.00% (1,020,054,720 bytes) of heap memory\n",
      "Scaling row group sizes to 95.00% for 8 writers\n",
      "22/05/08 15:02:05 WARN MemoryManager: Total allocation exceeds 95.00% (1,020,054,720 bytes) of heap memory\n",
      "Scaling row group sizes to 95.00% for 8 writers\n",
      "                                                                                \r"
     ]
    }
   ],
   "source": [
    "etl.save_dim_table(\n",
    "    immigration.pipe(fill_missing_routes),\n",
    "    'route_dim'\n",
    ")"
   ]
  },
  {
   "cell_type": "code",
   "execution_count": null,
   "id": "08951605",
   "metadata": {},
   "outputs": [],
   "source": [
    "etl.re"
   ]
  }
 ],
 "metadata": {
  "kernelspec": {
   "display_name": "Python 3 (ipykernel)",
   "language": "python",
   "name": "python3"
  },
  "language_info": {
   "codemirror_mode": {
    "name": "ipython",
    "version": 3
   },
   "file_extension": ".py",
   "mimetype": "text/x-python",
   "name": "python",
   "nbconvert_exporter": "python",
   "pygments_lexer": "ipython3",
   "version": "3.9.7"
  }
 },
 "nbformat": 4,
 "nbformat_minor": 5
}
