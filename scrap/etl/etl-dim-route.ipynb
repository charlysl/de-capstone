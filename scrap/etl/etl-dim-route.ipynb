{
 "cells": [
  {
   "cell_type": "code",
   "execution_count": 1,
   "id": "736bf8ef",
   "metadata": {},
   "outputs": [],
   "source": [
    "import findspark\n",
    "findspark.init()\n",
    "\n",
    "import pyspark.sql.types as T\n",
    "import pyspark.sql.functions as F\n",
    "\n",
    "import pandas as pd\n",
    "pd.set_option('display.max_columns', None)\n",
    "pd.set_option('display.max_rows', 1000)\n",
    "\n",
    "from etl import SparkETL\n",
    "from dim import RouteDim"
   ]
  },
  {
   "cell_type": "code",
   "execution_count": 2,
   "id": "eafb79dc",
   "metadata": {},
   "outputs": [
    {
     "name": "stderr",
     "output_type": "stream",
     "text": [
      "WARNING: An illegal reflective access operation has occurred\n",
      "WARNING: Illegal reflective access by org.apache.spark.unsafe.Platform (file:/usr/local/Cellar/apache-spark/3.1.2/libexec/jars/spark-unsafe_2.12-3.1.2.jar) to constructor java.nio.DirectByteBuffer(long,int)\n",
      "WARNING: Please consider reporting this to the maintainers of org.apache.spark.unsafe.Platform\n",
      "WARNING: Use --illegal-access=warn to enable warnings of further illegal reflective access operations\n",
      "WARNING: All illegal access operations will be denied in a future release\n",
      "22/05/13 19:04:34 WARN NativeCodeLoader: Unable to load native-hadoop library for your platform... using builtin-java classes where applicable\n",
      "Using Spark's default log4j profile: org/apache/spark/log4j-defaults.properties\n",
      "Setting default log level to \"WARN\".\n",
      "To adjust logging level use sc.setLogLevel(newLevel). For SparkR, use setLogLevel(newLevel).\n"
     ]
    }
   ],
   "source": [
    "etl = SparkETL()\n",
    "spark = etl.get_spark()\n",
    "dim_helper = RouteDim()"
   ]
  },
  {
   "cell_type": "code",
   "execution_count": 3,
   "id": "e5bef70a",
   "metadata": {},
   "outputs": [
    {
     "name": "stderr",
     "output_type": "stream",
     "text": [
      "\r",
      "[Stage 0:>                                                          (0 + 1) / 1]\r",
      "\r",
      "                                                                                \r"
     ]
    }
   ],
   "source": [
    "immigration = etl.read_clean_table('immigration')"
   ]
  },
  {
   "cell_type": "code",
   "execution_count": 4,
   "id": "18a2dc78",
   "metadata": {},
   "outputs": [],
   "source": [
    "def route_nk(df):\n",
    "    return (\n",
    "        df\n",
    "        .select(dim_helper.get_nk())\n",
    "        .drop_duplicates()\n",
    "    )"
   ]
  },
  {
   "cell_type": "code",
   "execution_count": 5,
   "id": "254eb002",
   "metadata": {},
   "outputs": [],
   "source": [
    "def missing_routes(df):\n",
    "    \n",
    "    route_dim = etl.read_dim_table('route_dim')\n",
    "    \n",
    "    return (\n",
    "        df\n",
    "        .join(\n",
    "            route_dim,\n",
    "            on=dim_helper.on_nk(df, route_dim),\n",
    "            how='leftanti'\n",
    "        )\n",
    "    )"
   ]
  },
  {
   "cell_type": "code",
   "execution_count": 6,
   "id": "0250cf2c",
   "metadata": {},
   "outputs": [],
   "source": [
    "def coordinate_expr(index):\n",
    "    return F.expr(f\"\"\"\n",
    "            CAST(\n",
    "                ELEMENT_AT(\n",
    "                    SPLIT(dst_coordinates, ','), \n",
    "                    {index}\n",
    "                ) \n",
    "                AS DOUBLE\n",
    "            )\n",
    "        \"\"\")"
   ]
  },
  {
   "cell_type": "code",
   "execution_count": 7,
   "id": "fe406593",
   "metadata": {},
   "outputs": [],
   "source": [
    "def fill_sk(df):\n",
    "    return df.withColumn('route_id', F.expr(dim_helper.gen_sk_expr()))"
   ]
  },
  {
   "cell_type": "code",
   "execution_count": 8,
   "id": "3500d835",
   "metadata": {},
   "outputs": [],
   "source": [
    "def fill_airport(df):\n",
    "    \n",
    "    airports = (\n",
    "        etl.read_clean_table('airport')\n",
    "        .withColumnRenamed('airport_id', 'dst_airport_id')\n",
    "    )\n",
    "    \n",
    "    ports_to_airports = (\n",
    "        etl.read_clean_table('port_to_airport')\n",
    "        .withColumnRenamed('port_id', 'airport_port_id')\n",
    "    )\n",
    "    \n",
    "    return (\n",
    "        df\n",
    "        .join(\n",
    "            ports_to_airports,\n",
    "            on=df['port_id'] == ports_to_airports['airport_port_id'],\n",
    "            how='left'\n",
    "        )\n",
    "        .drop('airport_port_id')\n",
    "        .join(\n",
    "            airports,\n",
    "            on=ports_to_airports['airport_id'] == airports['dst_airport_id'],\n",
    "            how='left'\n",
    "        )\n",
    "        .drop('airport_id')\n",
    "        .withColumnRenamed('city', 'dst_city')\n",
    "        .withColumnRenamed('state_id', 'dst_state_id')\n",
    "        .withColumnRenamed('name', 'dst_airport_name')\n",
    "        .withColumnRenamed('international', 'dst_airport_international')\n",
    "        .withColumnRenamed('type_id', 'dst_airport_type_id')\n",
    "        .withColumnRenamed('type', 'dst_airport_type')\n",
    "        .withColumnRenamed('coordinates', 'dst_coordinates')\n",
    "        .withColumn('dst_longitude', coordinate_expr(1))\n",
    "        .withColumn('dst_latitude', coordinate_expr(2))\n",
    "    )"
   ]
  },
  {
   "cell_type": "code",
   "execution_count": 9,
   "id": "ac97fb90",
   "metadata": {},
   "outputs": [],
   "source": [
    "def fill_demographics(df):\n",
    "    \n",
    "    demographics = etl.read_clean_table('demographics')\n",
    "    \n",
    "    return (\n",
    "        df\n",
    "        .join(\n",
    "            demographics,\n",
    "            on=(\n",
    "                (df['dst_state_id'] == demographics['state_id'])\n",
    "                & (df['dst_city'] == demographics['city'])\n",
    "            ),\n",
    "            how='left'\n",
    "        )\n",
    "        .drop('state_id', 'city')\n",
    "        .withColumnRenamed('asian', 'dst_asian')\n",
    "        .withColumnRenamed('black', 'dst_black')\n",
    "        .withColumnRenamed('latino', 'dst_latino')\n",
    "        .withColumnRenamed('native', 'dst_native')\n",
    "        .withColumnRenamed('white', 'dst_white')\n",
    "        .withColumnRenamed('ethnicity_id', 'dst_ethnicity_id')\n",
    "        .withColumnRenamed('ethnicity', 'dst_ethnicity')\n",
    "        .withColumnRenamed('population', 'dst_population')\n",
    "        .withColumnRenamed('size_id', 'dst_size_id')\n",
    "        .withColumnRenamed('size', 'dst_size')\n",
    "    )"
   ]
  },
  {
   "cell_type": "code",
   "execution_count": 10,
   "id": "577daec4",
   "metadata": {},
   "outputs": [],
   "source": [
    "def fill_state(df):\n",
    "    \n",
    "    states = etl.read_clean_table('state')\n",
    "    \n",
    "    return (\n",
    "        df\n",
    "        .join(states, on=df['dst_state_id'] == states['state_id'], how='left')\n",
    "        .drop('state_id')\n",
    "        .withColumnRenamed('name', 'dst_state_name')\n",
    "        .withColumnRenamed('type_id', 'dst_state_type_id')\n",
    "        .withColumnRenamed('type', 'dst_state_type')\n",
    "    )"
   ]
  },
  {
   "cell_type": "code",
   "execution_count": 11,
   "id": "04b6b227",
   "metadata": {},
   "outputs": [],
   "source": [
    "def fill_temperature(df):\n",
    "    \n",
    "    temperatures = etl.read_clean_table('temperature')\n",
    "    \n",
    "    return (\n",
    "        df\n",
    "        .join(temperatures, on=df['dst_state_id'] == temperatures['state_id'], how='left')\n",
    "        .drop('state_id')\n",
    "        .withColumnRenamed('climate_id', 'dst_state_climate_id')\n",
    "        .withColumnRenamed('climate', 'dst_state_climate')\n",
    "    )"
   ]
  },
  {
   "cell_type": "code",
   "execution_count": 12,
   "id": "91221df2",
   "metadata": {},
   "outputs": [],
   "source": [
    "def fill_missing_routes(df, date):\n",
    "    return (\n",
    "        df\n",
    "        .pipe(SparkETL.filter_one_month, date)\n",
    "        .pipe(route_nk)\n",
    "        .pipe(missing_routes)\n",
    "        .pipe(fill_sk)\n",
    "        .pipe(fill_airport)\n",
    "        .pipe(fill_demographics)\n",
    "        .pipe(fill_state)\n",
    "        .pipe(fill_temperature)\n",
    "    )"
   ]
  },
  {
   "cell_type": "code",
   "execution_count": 13,
   "id": "baea91d0",
   "metadata": {
    "scrolled": true
   },
   "outputs": [
    {
     "ename": "TypeError",
     "evalue": "fill_missing_routes() missing 1 required positional argument: 'date'",
     "output_type": "error",
     "traceback": [
      "\u001b[0;31m---------------------------------------------------------------------------\u001b[0m",
      "\u001b[0;31mTypeError\u001b[0m                                 Traceback (most recent call last)",
      "\u001b[0;32m/var/folders/qv/mzlqg6j94kl_f0tjrgnt99_c0000gn/T/ipykernel_41228/1278220883.py\u001b[0m in \u001b[0;36m<module>\u001b[0;34m\u001b[0m\n\u001b[1;32m      1\u001b[0m etl.save_dim_table(\n\u001b[0;32m----> 2\u001b[0;31m     \u001b[0mimmigration\u001b[0m\u001b[0;34m.\u001b[0m\u001b[0mpipe\u001b[0m\u001b[0;34m(\u001b[0m\u001b[0mfill_missing_routes\u001b[0m\u001b[0;34m)\u001b[0m\u001b[0;34m,\u001b[0m\u001b[0;34m\u001b[0m\u001b[0;34m\u001b[0m\u001b[0m\n\u001b[0m\u001b[1;32m      3\u001b[0m     \u001b[0;34m'route_dim'\u001b[0m\u001b[0;34m\u001b[0m\u001b[0;34m\u001b[0m\u001b[0m\n\u001b[1;32m      4\u001b[0m )\n",
      "\u001b[0;32m~/DataEng2022/de-capstone/scrap/etl/etl.py\u001b[0m in \u001b[0;36mpipe\u001b[0;34m(self, *args)\u001b[0m\n\u001b[1;32m     24\u001b[0m     \u001b[0mOutput\u001b[0m\u001b[0;34m:\u001b[0m \u001b[0ma\u001b[0m \u001b[0mSpark\u001b[0m \u001b[0mDataframe\u001b[0m\u001b[0;34m\u001b[0m\u001b[0;34m\u001b[0m\u001b[0m\n\u001b[1;32m     25\u001b[0m     \"\"\"\n\u001b[0;32m---> 26\u001b[0;31m     \u001b[0;32mreturn\u001b[0m \u001b[0margs\u001b[0m\u001b[0;34m[\u001b[0m\u001b[0;36m0\u001b[0m\u001b[0;34m]\u001b[0m\u001b[0;34m(\u001b[0m\u001b[0mself\u001b[0m\u001b[0;34m,\u001b[0m \u001b[0;34m*\u001b[0m\u001b[0margs\u001b[0m\u001b[0;34m[\u001b[0m\u001b[0;36m1\u001b[0m\u001b[0;34m:\u001b[0m\u001b[0;34m]\u001b[0m\u001b[0;34m)\u001b[0m\u001b[0;34m\u001b[0m\u001b[0;34m\u001b[0m\u001b[0m\n\u001b[0m\u001b[1;32m     27\u001b[0m \u001b[0;34m\u001b[0m\u001b[0m\n\u001b[1;32m     28\u001b[0m \u001b[0;31m# TODO assert DataFrame does not have pipe method, API might add it\u001b[0m\u001b[0;34m\u001b[0m\u001b[0;34m\u001b[0m\u001b[0m\n",
      "\u001b[0;31mTypeError\u001b[0m: fill_missing_routes() missing 1 required positional argument: 'date'"
     ]
    }
   ],
   "source": [
    "etl.save_dim_table(\n",
    "    immigration.pipe(fill_missing_routes, date),\n",
    "    'route_dim'\n",
    ")"
   ]
  },
  {
   "cell_type": "code",
   "execution_count": 17,
   "id": "4857f00b",
   "metadata": {},
   "outputs": [
    {
     "name": "stdout",
     "output_type": "stream",
     "text": [
      "2016-01-01\n",
      "2016-02-01\n",
      "2016-03-01\n",
      "2016-04-01\n",
      "2016-05-01\n",
      "2016-06-01\n",
      "2016-07-01\n",
      "2016-08-01\n",
      "2016-09-01\n",
      "2016-10-01\n",
      "2016-11-01\n",
      "2016-12-01\n"
     ]
    }
   ],
   "source": [
    "from datetime import datetime\n",
    "\n",
    "for month in range(1,13):\n",
    "    date = f\"2016-{month:02d}-01\"\n",
    "    print(date)\n",
    "    etl.save_dim_table(\n",
    "        immigration.pipe(fill_missing_routes, date),\n",
    "        'route_dim'\n",
    "    )"
   ]
  },
  {
   "cell_type": "code",
   "execution_count": 15,
   "id": "2a6b1732",
   "metadata": {},
   "outputs": [],
   "source": [
    "route_dim = etl.read_dim_table('route_dim')"
   ]
  },
  {
   "cell_type": "code",
   "execution_count": 18,
   "id": "83405fc4",
   "metadata": {},
   "outputs": [
    {
     "data": {
      "text/plain": [
       "109061"
      ]
     },
     "execution_count": 18,
     "metadata": {},
     "output_type": "execute_result"
    }
   ],
   "source": [
    "route_dim.count()"
   ]
  },
  {
   "cell_type": "code",
   "execution_count": 19,
   "id": "5db720d6",
   "metadata": {},
   "outputs": [
    {
     "data": {
      "text/plain": [
       "True"
      ]
     },
     "execution_count": 19,
     "metadata": {},
     "output_type": "execute_result"
    }
   ],
   "source": [
    "#TODO: validation, no sk dups, could also check to nk dups\n",
    "(\n",
    "    route_dim\n",
    "    .select('route_id')\n",
    "    .count() == route_dim.select('route_id').drop_duplicates().count()\n",
    ")"
   ]
  },
  {
   "cell_type": "markdown",
   "id": "3ecd620f",
   "metadata": {},
   "source": [
    "NOTE: use entity resolution for airport_to_city\n",
    "\n",
    "Exhibit that doesn't match any city\n",
    "```\n",
    "Chicago/West Chicago airport municipality\n",
    "```"
   ]
  },
  {
   "cell_type": "code",
   "execution_count": null,
   "id": "0b0e7b53",
   "metadata": {},
   "outputs": [],
   "source": []
  },
  {
   "cell_type": "code",
   "execution_count": 93,
   "id": "18ba565a",
   "metadata": {},
   "outputs": [],
   "source": [
    "col = 'dst_state_climate'"
   ]
  },
  {
   "cell_type": "code",
   "execution_count": 94,
   "id": "2b8bd6a5",
   "metadata": {},
   "outputs": [
    {
     "data": {
      "text/plain": [
       "<AxesSubplot:ylabel='dst_state_climate'>"
      ]
     },
     "execution_count": 94,
     "metadata": {},
     "output_type": "execute_result"
    },
    {
     "data": {
      "image/png": "[encoded data removed]",
      "text/plain": [
       "<Figure size 432x288 with 1 Axes>"
      ]
     },
     "metadata": {
      "needs_background": "light"
     },
     "output_type": "display_data"
    }
   ],
   "source": [
    "(\n",
    "    route_dim\n",
    "    .groupby(col)\n",
    "    .count()\n",
    "    .sort(F.desc('count'))\n",
    ").limit(1000).toPandas().iloc[:20].plot(x=col, y='count', kind='barh')"
   ]
  },
  {
   "cell_type": "code",
   "execution_count": 62,
   "id": "cf873703",
   "metadata": {},
   "outputs": [
    {
     "data": {
      "text/plain": [
       "916"
      ]
     },
     "execution_count": 62,
     "metadata": {},
     "output_type": "execute_result"
    }
   ],
   "source": [
    "route_dim.where(F.col('flight_number') == 'UNKNOWN').count()"
   ]
  },
  {
   "cell_type": "code",
   "execution_count": null,
   "id": "f20d19ab",
   "metadata": {},
   "outputs": [],
   "source": []
  }
 ],
 "metadata": {
  "kernelspec": {
   "display_name": "Python 3 (ipykernel)",
   "language": "python",
   "name": "python3"
  },
  "language_info": {
   "codemirror_mode": {
    "name": "ipython",
    "version": 3
   },
   "file_extension": ".py",
   "mimetype": "text/x-python",
   "name": "python",
   "nbconvert_exporter": "python",
   "pygments_lexer": "ipython3",
   "version": "3.9.7"
  }
 },
 "nbformat": 4,
 "nbformat_minor": 5
}
