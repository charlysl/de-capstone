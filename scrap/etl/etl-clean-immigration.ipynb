{
 "cells": [
  {
   "cell_type": "code",
   "execution_count": 3,
   "id": "0a772d2c",
   "metadata": {},
   "outputs": [],
   "source": [
    "import findspark\n",
    "findspark.init()\n",
    "\n",
    "import pyspark.sql.types as T\n",
    "import pyspark.sql.functions as F\n",
    "\n",
    "from datetime import datetime, timedelta\n",
    "\n",
    "from etl import SparkETL"
   ]
  },
  {
   "cell_type": "code",
   "execution_count": 4,
   "id": "0d6c5f21",
   "metadata": {},
   "outputs": [
    {
     "name": "stderr",
     "output_type": "stream",
     "text": [
      "WARNING: An illegal reflective access operation has occurred\n",
      "WARNING: Illegal reflective access by org.apache.spark.unsafe.Platform (file:/usr/local/Cellar/apache-spark/3.1.2/libexec/jars/spark-unsafe_2.12-3.1.2.jar) to constructor java.nio.DirectByteBuffer(long,int)\n",
      "WARNING: Please consider reporting this to the maintainers of org.apache.spark.unsafe.Platform\n",
      "WARNING: Use --illegal-access=warn to enable warnings of further illegal reflective access operations\n",
      "WARNING: All illegal access operations will be denied in a future release\n",
      "22/05/05 11:36:09 WARN NativeCodeLoader: Unable to load native-hadoop library for your platform... using builtin-java classes where applicable\n",
      "Using Spark's default log4j profile: org/apache/spark/log4j-defaults.properties\n",
      "Setting default log level to \"WARN\".\n",
      "To adjust logging level use sc.setLogLevel(newLevel). For SparkR, use setLogLevel(newLevel).\n"
     ]
    }
   ],
   "source": [
    "etl = SparkETL()"
   ]
  },
  {
   "cell_type": "code",
   "execution_count": 5,
   "id": "1f24db42",
   "metadata": {},
   "outputs": [],
   "source": [
    "schema = T.StructType([\n",
    "    T.StructField('_c0', T.StringType(), True),\n",
    "    T.StructField('cicid', T.StringType(), True),\n",
    "    T.StructField('i94yr', T.StringType(), True),\n",
    "    T.StructField('i94mon', T.StringType(), True),\n",
    "    T.StructField('i94cit', T.StringType(), True),\n",
    "    T.StructField('i94res', T.StringType(), True),\n",
    "    T.StructField('i94port', T.StringType(), True),\n",
    "    T.StructField('arrdate', T.FloatType(), True),\n",
    "    T.StructField('i94mode', T.StringType(), True),\n",
    "    T.StructField('i94addr', T.StringType(), True),\n",
    "    T.StructField('depdate', T.FloatType(), True),\n",
    "    T.StructField('i94bir', T.FloatType(), True),\n",
    "    T.StructField('i94visa', T.StringType(), True),\n",
    "    T.StructField('count', T.StringType(), True),\n",
    "    T.StructField('dtadfile', T.StringType(), True),\n",
    "    T.StructField('visapost', T.StringType(), True),\n",
    "    T.StructField('occup', T.StringType(), True),\n",
    "    T.StructField('entdepa', T.StringType(), True),\n",
    "    T.StructField('entdepd', T.StringType(), True),\n",
    "    T.StructField('entdepu', T.StringType(), True),\n",
    "    T.StructField('matflag', T.StringType(), True),\n",
    "    T.StructField('biryear', T.StringType(), True),\n",
    "    T.StructField('dtaddto', T.StringType(), True),\n",
    "    T.StructField('gender', T.StringType(), True),\n",
    "    T.StructField('insnum', T.StringType(), True),\n",
    "    T.StructField('airline', T.StringType(), True),\n",
    "    T.StructField('admnum', T.StringType(), True),\n",
    "    T.StructField('fltno', T.StringType(), True),\n",
    "    T.StructField('visatype', T.StringType(), True)\n",
    "])"
   ]
  },
  {
   "cell_type": "code",
   "execution_count": 6,
   "id": "bef1c503",
   "metadata": {},
   "outputs": [
    {
     "ename": "NameError",
     "evalue": "name 'spark' is not defined",
     "output_type": "error",
     "traceback": [
      "\u001b[0;31m---------------------------------------------------------------------------\u001b[0m",
      "\u001b[0;31mNameError\u001b[0m                                 Traceback (most recent call last)",
      "\u001b[0;32m/var/folders/qv/mzlqg6j94kl_f0tjrgnt99_c0000gn/T/ipykernel_5915/3081469745.py\u001b[0m in \u001b[0;36m<module>\u001b[0;34m\u001b[0m\n\u001b[1;32m      1\u001b[0m immigration_staging = (\n\u001b[0;32m----> 2\u001b[0;31m     \u001b[0mspark\u001b[0m\u001b[0;34m\u001b[0m\u001b[0;34m\u001b[0m\u001b[0m\n\u001b[0m\u001b[1;32m      3\u001b[0m     \u001b[0;34m.\u001b[0m\u001b[0mread\u001b[0m\u001b[0;34m\u001b[0m\u001b[0;34m\u001b[0m\u001b[0m\n\u001b[1;32m      4\u001b[0m     \u001b[0;34m.\u001b[0m\u001b[0mformat\u001b[0m\u001b[0;34m(\u001b[0m\u001b[0;34m'csv'\u001b[0m\u001b[0;34m)\u001b[0m\u001b[0;34m\u001b[0m\u001b[0;34m\u001b[0m\u001b[0m\n\u001b[1;32m      5\u001b[0m     \u001b[0;34m.\u001b[0m\u001b[0mschema\u001b[0m\u001b[0;34m(\u001b[0m\u001b[0mschema\u001b[0m\u001b[0;34m)\u001b[0m\u001b[0;34m\u001b[0m\u001b[0;34m\u001b[0m\u001b[0m\n",
      "\u001b[0;31mNameError\u001b[0m: name 'spark' is not defined"
     ]
    }
   ],
   "source": [
    "immigration_staging = (\n",
    "    spark\n",
    "    .read\n",
    "    .format('csv')\n",
    "    .schema(schema)\n",
    "    .option('format', 'csv')\n",
    "    .option('header', 'true')\n",
    "    .load(\"../../immigration_data_sample.csv\")\n",
    ")"
   ]
  },
  {
   "cell_type": "code",
   "execution_count": null,
   "id": "bdd9827a",
   "metadata": {},
   "outputs": [],
   "source": [
    "sas_epoc = datetime(1960, 1, 1)\n",
    "\n",
    "@F.udf(T.DateType())\n",
    "def convert_sas_date(arrdate):\n",
    "    return sas_epoc + timedelta(days=arrdate)"
   ]
  },
  {
   "cell_type": "code",
   "execution_count": null,
   "id": "058fbbc0",
   "metadata": {},
   "outputs": [],
   "source": [
    "class Age():\n",
    "    \n",
    "    descriptions = {\n",
    "        0: 'Preschool (-7)',\n",
    "        1: 'Gen Z (7-22)',\n",
    "        2: 'Millennial (23-38)',\n",
    "        3: 'Gen X (40-54)',\n",
    "        4: 'Boomer (55-75)',\n",
    "        5: 'Senior (>75)',\n",
    "    }\n",
    "\n",
    "    infant = 0\n",
    "    genz = 1\n",
    "    millenial = 2\n",
    "    genx = 3\n",
    "    boomer = 4\n",
    "    senior = 5\n",
    "    \n",
    "    def __init__(self, age):\n",
    "        self.age = age\n",
    "        \n",
    "    def group(self):\n",
    "        if self.age <= 7:\n",
    "            return self.infant\n",
    "        if self.age <= 22:\n",
    "            return self.genz\n",
    "        elif self.age <= 38:\n",
    "            return self.millenial\n",
    "        elif self.age <=54:\n",
    "            return self.genx\n",
    "        elif self.age <= 75:\n",
    "            return self.boomer\n",
    "        else:\n",
    "            return self.senior\n",
    "        \n",
    "    def description(self):\n",
    "        return self.descriptions[self.group()]"
   ]
  },
  {
   "cell_type": "code",
   "execution_count": null,
   "id": "e6a5d494",
   "metadata": {},
   "outputs": [],
   "source": [
    "class Stay():\n",
    "    \n",
    "    descriptions = {\n",
    "        0: '1 day',\n",
    "        1: '2-7 days',\n",
    "        2: '8-30 days',\n",
    "        3: '>30 days',\n",
    "        4: 'not departed'\n",
    "    }\n",
    "\n",
    "    day = 0\n",
    "    week = 1\n",
    "    month = 2\n",
    "    long = 3\n",
    "    not_departed = 4\n",
    "    \n",
    "    def __init__(self, arrdate, depdate):\n",
    "        self.arrdate = arrdate\n",
    "        self.depdate = depdate\n",
    "        \n",
    "    def group(self):\n",
    "        if not self.depdate:\n",
    "            return self.not_departed\n",
    "        else:\n",
    "            self.stay = self.depdate - self.arrdate\n",
    "            \n",
    "        if self.stay <= 1:\n",
    "            return self.day\n",
    "        elif self.stay <= 7:\n",
    "            return self.week\n",
    "        elif self.stay <= 30:\n",
    "            return self.month\n",
    "        else:\n",
    "            return self.long\n",
    "        \n",
    "    def description(self):\n",
    "        return self.descriptions[self.group()]"
   ]
  },
  {
   "cell_type": "code",
   "execution_count": null,
   "id": "da976be0",
   "metadata": {},
   "outputs": [],
   "source": [
    "@F.udf(T.IntegerType())\n",
    "def convert_age(age):\n",
    "    return Age(age).group()"
   ]
  },
  {
   "cell_type": "code",
   "execution_count": null,
   "id": "1fa3eeea",
   "metadata": {},
   "outputs": [],
   "source": [
    "@F.udf(T.IntegerType())\n",
    "def convert_stay(arrdate, depdate):\n",
    "    return Stay(arrdate, depdate).group()"
   ]
  },
  {
   "cell_type": "code",
   "execution_count": 8,
   "id": "66b7fee2",
   "metadata": {},
   "outputs": [],
   "source": [
    "def clean_immigration(df):\n",
    "    return (\n",
    "        df\n",
    "        .select(\n",
    "            # partition\n",
    "            F.col('i94yr').cast('int').alias('year'),\n",
    "            F.col('i94mon').cast('int').alias('month'),\n",
    "            \n",
    "            convert_sas_date(F.col('arrdate')).alias('arrival_date'),\n",
    "            'airline',\n",
    "            F.col('fltno').alias('flight_number'),\n",
    "            F.col('i94port').alias('port_id'),\n",
    "            F.col('i94cit').cast('int').alias('citizenship_id'),\n",
    "            F.col('i94res').cast('int').alias('residence_id'),\n",
    "            F.col('i94bir').cast('int').alias('age'),\n",
    "            convert_age(F.col('i94bir')).alias('age_id'),\n",
    "            F.col('gender').alias('gender_id'),\n",
    "            F.col('i94visa').cast('int').alias('visa_id'),\n",
    "            F.col('i94addr').alias('address_state_id'),\n",
    "            (F.col('depdate') - F.col('arrdate')).cast('int').alias('stay'),\n",
    "            convert_stay(F.col('arrdate'), F.col('depdate')).alias('stay_id')\n",
    "        )\n",
    ")"
   ]
  },
  {
   "cell_type": "code",
   "execution_count": 9,
   "id": "5def6b28",
   "metadata": {},
   "outputs": [
    {
     "ename": "NameError",
     "evalue": "name 'immigration_staging' is not defined",
     "output_type": "error",
     "traceback": [
      "\u001b[0;31m---------------------------------------------------------------------------\u001b[0m",
      "\u001b[0;31mNameError\u001b[0m                                 Traceback (most recent call last)",
      "\u001b[0;32m/var/folders/qv/mzlqg6j94kl_f0tjrgnt99_c0000gn/T/ipykernel_5915/2687005662.py\u001b[0m in \u001b[0;36m<module>\u001b[0;34m\u001b[0m\n\u001b[1;32m      1\u001b[0m (\n\u001b[0;32m----> 2\u001b[0;31m     \u001b[0mclean_immigration\u001b[0m\u001b[0;34m(\u001b[0m\u001b[0mimmigration_staging\u001b[0m\u001b[0;34m)\u001b[0m\u001b[0;34m\u001b[0m\u001b[0;34m\u001b[0m\u001b[0m\n\u001b[0m\u001b[1;32m      3\u001b[0m \u001b[0;34m\u001b[0m\u001b[0m\n\u001b[1;32m      4\u001b[0m ).show(1000)\n",
      "\u001b[0;31mNameError\u001b[0m: name 'immigration_staging' is not defined"
     ]
    }
   ],
   "source": [
    "(\n",
    "    clean_immigration(immigration_staging)\n",
    "\n",
    ").show(1000)"
   ]
  },
  {
   "cell_type": "code",
   "execution_count": 12,
   "id": "c37213b4",
   "metadata": {},
   "outputs": [],
   "source": []
  },
  {
   "cell_type": "code",
   "execution_count": 13,
   "id": "b6dcabd2",
   "metadata": {},
   "outputs": [],
   "source": [
    "immigration = clean_immigration(immigration_staging)"
   ]
  },
  {
   "cell_type": "code",
   "execution_count": 14,
   "id": "2c29bcd3",
   "metadata": {},
   "outputs": [
    {
     "name": "stderr",
     "output_type": "stream",
     "text": [
      "\r",
      "[Stage 1:>                                                          (0 + 1) / 1]\r",
      "\r",
      "                                                                                \r"
     ]
    }
   ],
   "source": [
    "etl.save_clean_table(immigration, 'immigration', partition=['year', 'month'])"
   ]
  },
  {
   "cell_type": "code",
   "execution_count": 15,
   "id": "b7ef9315",
   "metadata": {},
   "outputs": [
    {
     "name": "stdout",
     "output_type": "stream",
     "text": [
      "+------------+-------+-------------+-------+--------------+------------+---+------+---------+-------+----------------+----+-------+----+-----+\n",
      "|arrival_date|airline|flight_number|port_id|citizenship_id|residence_id|age|age_id|gender_id|visa_id|address_state_id|stay|stay_id|year|month|\n",
      "+------------+-------+-------------+-------+--------------+------------+---+------+---------+-------+----------------+----+-------+----+-----+\n",
      "|  2016-04-22|     JL|        00782|    HHW|           209|         209| 61|     4|        F|      2|              HI|   7|      1|2016|    4|\n",
      "+------------+-------+-------------+-------+--------------+------------+---+------+---------+-------+----------------+----+-------+----+-----+\n",
      "only showing top 1 row\n",
      "\n"
     ]
    }
   ],
   "source": [
    "etl.read_clean_table('immigration').show(1)"
   ]
  },
  {
   "cell_type": "code",
   "execution_count": null,
   "id": "be729040",
   "metadata": {},
   "outputs": [],
   "source": []
  }
 ],
 "metadata": {
  "kernelspec": {
   "display_name": "Python 3 (ipykernel)",
   "language": "python",
   "name": "python3"
  },
  "language_info": {
   "codemirror_mode": {
    "name": "ipython",
    "version": 3
   },
   "file_extension": ".py",
   "mimetype": "text/x-python",
   "name": "python",
   "nbconvert_exporter": "python",
   "pygments_lexer": "ipython3",
   "version": "3.9.7"
  }
 },
 "nbformat": 4,
 "nbformat_minor": 5
}
